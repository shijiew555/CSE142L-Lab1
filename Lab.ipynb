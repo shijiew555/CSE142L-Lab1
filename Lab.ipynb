{
 "cells": [
  {
   "cell_type": "code",
   "execution_count": null,
   "metadata": {
    "editable": false,
    "init_cell": true
   },
   "outputs": [],
   "source": [
    "# This cell runs automatically.  Don't edit it. \n",
    "from CSE142L.notebook import * \n",
    "from cfiddle import *"
   ]
  },
  {
   "cell_type": "markdown",
   "metadata": {
    "cse142L.is_response": true,
    "deletable": false,
    "editable": true
   },
   "source": [
    "\n",
    "<div class=\"namebox\">    \n",
    "Double Click to edit and enter your\n",
    "\n",
    "1.  Name\n",
    "2.  Student ID\n",
    "3.  @ucsd.edu email address\n",
    "    \n",
    "</div>"
   ]
  },
  {
   "cell_type": "markdown",
   "metadata": {
    "editable": false
   },
   "source": [
    "\n"
   ]
  },
  {
   "cell_type": "markdown",
   "metadata": {
    "editable": false
   },
   "source": [
    "<div class=\"title\">Lab 1: The Performance Equation</div>"
   ]
  },
  {
   "cell_type": "markdown",
   "metadata": {
    "editable": false
   },
   "source": [
    "**Welcome to the first lab of CSE142L!**\n",
    "\n",
    "The main goals of this lab are:\n",
    "\n",
    "1.  To get you set up with the lab environment\n",
    "    1.  Github\n",
    "    2.  Github Classroom\n",
    "    3.  Docker\n",
    "    4.  UCSD's Datahub cluster\n",
    "    5.  Jupyter Notebook\n",
    "2.  Gain experience with the performance equation\n",
    "4.  Collect a list of **Interesting Questions** that you probably cannot answer now, but will be able to by the end of the course.\n",
    "\n",
    "This lab will be completed on your own. \n",
    "\n",
    "Check Gradescope for due date(s)."
   ]
  },
  {
   "cell_type": "markdown",
   "metadata": {
    "editable": false
   },
   "source": [
    "# FAQ and Updates\n",
    "\n",
    "1.  Fixed a typo in Question 4: `-O1` -> `-O0`\n",
    "2.  Added a note about some buggy data in the Amdahl's Law section."
   ]
  },
  {
   "cell_type": "markdown",
   "metadata": {
    "editable": false
   },
   "source": [
    "# Pre-Lab Reading Quiz"
   ]
  },
  {
   "cell_type": "markdown",
   "metadata": {
    "editable": false
   },
   "source": [
    "Part of this lab is a pre-lab quiz. The pre-lab quiz is on Canvas.  It is due **on Wednesday before Section A meets**.  It's not hard, but it does require you to read over the lab before class.  If you are having trouble accessing it, make sure you are **logged into Canvas**.\n",
    "\n",
    "##  How To Read the Lab For the Reading Quiz\n",
    "\n",
    "The goal of reading the lab before starting on it is to make sure you have a preview of:\n",
    "\n",
    "1.  What's involved in the lab.\n",
    "2.  The key concepts of the lab.\n",
    "3.  What you can expect from the lab.\n",
    "4.  Any questions you might have.\n",
    "\n",
    "These are the things we will ask about on the quiz.  You _do not_ need to study the lab in depth.  You _do not_ need to run the cells.\n",
    "\n",
    "You should read these parts carefully:\n",
    "\n",
    "* Paragraphs at the top of section/subsections\n",
    "* The description of the programming assignment\n",
    "* Any other large blocks of text\n",
    "* The \"About Labs in This Class\" section (Lab 1 only)\n",
    "* The programming assignment description.\n",
    "\n",
    "You should skim these parts:\n",
    "\n",
    "* The questions.\n",
    "\n",
    "You can skip these parts:\n",
    "\n",
    "* The \"About Labs in This Class\" section (Labs other than Lab 1)\n",
    "* Commentary on the output of code cells (which is most of the lab)\n",
    "* Parts of the lab that refer to things you can't see (like cell output)\n",
    "* Solution to completeness questions.\n",
    "\n",
    "\n",
    "## Taking the Quiz\n",
    "\n",
    "You can find it here: https://canvas.ucsd.edu/courses/40763/quizzes\n",
    "\n",
    "The quiz is \"open lab\" -- you can search, re-read, etc. the lab.\n",
    "\n",
    "You can take the quiz 3 times.  Highest score counts."
   ]
  },
  {
   "cell_type": "markdown",
   "metadata": {
    "editable": false
   },
   "source": [
    "# Browser Compatibility"
   ]
  },
  {
   "cell_type": "markdown",
   "metadata": {
    "editable": false
   },
   "source": [
    "We are still working out some bugs in some browsers.  Here's the current status:\n",
    "\n",
    "1.  Chrome -- well tested.  Preferred option. **Required for Moneta**\n",
    "2.  Firefox -- seems ok, but not thoroughly tested.\n",
    "3.  Edge -- seems ok, but not thoroughly tested.\n",
    "4.  Safari -- not supported at the moment.\n",
    "5.  Internet Explorer -- not supported at the moment.\n",
    "\n",
    "At the moment, the authentication step must be done in Chrome.  You usually _will not_ have to re-authenticate between labs, so if things work OK for the first, things will probably work here. "
   ]
  },
  {
   "cell_type": "markdown",
   "metadata": {
    "editable": false
   },
   "source": [
    "# About Labs In This Class"
   ]
  },
  {
   "cell_type": "markdown",
   "metadata": {
    "editable": false
   },
   "source": [
    "_This section is the same in all the labs.  It's repeated here for your reference._\n",
    "\n",
    "Labs are a way to **learn by doing**.  This means you _must_ **do**.  I have built these labs as Jupyter notebooks so that the \"doing\" is as easy and seamless as possible.\n",
    "\n",
    "In this lab, what you'll do is answer questions about how a program will run and then compare what really happened to your predictions.  Engaging with this process is how you'll learn.  The questions that the lab asks are there for several purposes:\n",
    "\n",
    "1.  To draw your attention to specific aspects of an experiment or of some results.\n",
    "2.  To push you to engage with the material more deeply by thinking about it.\n",
    "3.  To make you commit to a prediction so you can wonder why your prediction was wrong or be proud that you got it right.\n",
    "4.  To provide some practice with skills/concepts you're learning in this course.\n",
    "5.  To test your knowledge about what you've learned.\n",
    "\n",
    "The questions are graded in one of three ways:\n",
    "\n",
    "1. \"Correctness\" questions require you to answer the question and get the correct answer to get full credit.\n",
    "2. \"Completeness\" questions require you to answer the question.\n",
    "3. \"Optional\" questions are...optional.  They are there if you want to go further with the material.\n",
    "\n",
    "Some of the \"Completeness\" problems include a solution that will be hidden until you click \"Show Solution\".  To get the most from them, try them on your own first.\n",
    "\n",
    "Many of the \"Completeness\" questions ask you to make predictions about the outcome of an experiment and write down those predictions.  To maximize your learning, think carefully about your prediction and commit to it.  **You will never be penalized for making an incorrect prediction.**\n",
    "\n",
    "You are free to discuss \"Completeness\" and \"Optional\" questions with your classmates.  You must complete \"Correctness\" questions on your own.\n",
    "\n",
    "If you have questions about any kind of question, please ask during office hours or during class."
   ]
  },
  {
   "attachments": {
    "image.png": {
     "image/png": "[encoded data removed]"
    }
   },
   "cell_type": "markdown",
   "metadata": {
    "editable": false
   },
   "source": [
    "## How To Succeed On the Labs\n",
    "\n",
    "Here are some simple tips that will help you do well on this lab:\n",
    "\n",
    "1.  Read/skim through the entire lab _before_ class.  If something confuses you, you can ask about it.\n",
    "2.  Start early.  Getting answers on edstem/piazza can take time.  So think through the lab questions (and your questions about them) carefully.\n",
    "    1. Go through the lab once (several days before the deadline), do the parts that are easy/make sense\n",
    "    2. Ask questions/think about the rest\n",
    "    3. Come back and do the rest.\n",
    "3.  Start early.  The DSMLP cluster gets busy and slow near deadlines.  \"The cluster was slow the night of the deadline\" is not an excuse for not getting the lab done and it is not justification for asking for an extension.\n",
    "4.  Follow the guidelines below for asking answerable questions on edstem/piazza.\n",
    "\n",
    "You may think to yourself: \"If I start early enough to account for all that, I'd have to start right after the lab was assigned!\"  Good thought!\n",
    "\n",
    "![image.png](attachment:image.png)\n"
   ]
  },
  {
   "cell_type": "markdown",
   "metadata": {
    "editable": false
   },
   "source": [
    "<div class=\"alert alert-block alert-danger\">\n",
    "\n",
    "**The Cluster Will Get Slow** DSMLP and our cloud machines will get crowded and slow _before every deadline_.  This is completely predictable.  DSMLP can also get crowded due to deadlines in other courses.  You need to start early so you can avoid/work around these slowdowns.  Unless there's some kind of complete outage, we will not grant extensions because the servers are crowded.\n",
    "    \n",
    "</div>"
   ]
  },
  {
   "cell_type": "markdown",
   "metadata": {
    "editable": false
   },
   "source": [
    "## Getting Help\n",
    "\n",
    "You might run into trouble while doing this lab.  Here's how to get help:\n",
    "\n",
    "1.  Re-read the instructions and make sure you've followed them.\n",
    "2.  Try saving and reloading the notebook.\n",
    "3.  If it says you are not authenticated, go to the [the login section of the lab](#Logging-In-To-the-Course-Tools) and (re)authenticate.\n",
    "4.  If you get a `FileNotFoundError` make sure you've run all the code cells above your current point in the lab.\n",
    "4.  If you get an exception or stack dump, check that you didn't accidentally modify the contents of one of the python cells.\n",
    "5.  If all else fails, post a question to edstem/piazza.\n",
    "\n",
    "## Posting Answerable Questions on Edstem/Piazza\n",
    "\n",
    "If you want useful answers on edstem/piazza, you need to provide information that is specific enough for us to provide a useful answer.  Here's what we need:\n",
    "\n",
    "1.  Which part of which lab are you working on (use the section numbers)?\n",
    "2.  Which problem (copy and paste the _text_ of the question along with the number).\n",
    "\n",
    "If it's question about instructions:\n",
    "\n",
    "1.  Try to be as specific as you can about what is confusing or what you don't understand (e.g., \"I'm not sure if I should do _X_ or _Y_.\")\n",
    "\n",
    "If it's a question about an error while running code, then we need:\n",
    "\n",
    "1.  If you've committed anything, your github repo url.\n",
    "2.  If you've submitted a job with `cse142` you _must_ provide the job id.  It looks like this: `544e0cf2-4771-43c3-86f8-1c30d7af601f`.  With the id, we can figure out just about anything about your job.  Without it, we know nothing.\n",
    "3.  The _entire_ output you received.  There's no limit on how long an edstem/piazza post can be.  Give us all the information, not just the last few lines.  We like to scroll!\n",
    "\n",
    "For all of the above **paste the text** into the edstem/piazza question.  Please **do not provide screen captures**.  The course staff refuses to type in job ids found in screen shots.\n",
    "\n",
    "\n",
    "<div class=\"alert alert-block alert-danger\">\n",
    "\n",
    "**We Can't Answer Unanswerable Questions** If you don't follow these guidelines (especially about the github repo and the job id), we will probably not be able to answer your question on edstem/piazza.  We will archive it and ask you to re-post your question with the information we need.\n",
    "    \n",
    "</div>"
   ]
  },
  {
   "cell_type": "markdown",
   "metadata": {
    "editable": false
   },
   "source": [
    "## Keeping Your Lab Up-to-Date\n",
    "\n",
    "Occasionally, there will be changes made to the base repository after the\n",
    "assignment is released.  This may include bug fixes and updates to this document.  We'll post on piazza/edstem when an update is available.\n",
    "\n",
    "In those cases, you can use `./pull-updates` to pull the changes from upstream and merge them into your code.  You'll need to do this at a shell.  It won't work properly in the notebook.  Save your notebook in the browser first.\n",
    " \n",
    "Then, change to your lab directory and do\n",
    "\n",
    "```\n",
    "./pull-updates\n",
    "```\n"
   ]
  },
  {
   "cell_type": "markdown",
   "metadata": {
    "editable": false
   },
   "source": [
    "Then, reload this page in your browser."
   ]
  },
  {
   "cell_type": "markdown",
   "metadata": {
    "editable": false
   },
   "source": [
    "## How To Use This Document\n",
    "\n",
    "You will use Jupyter Notebook to complete this lab.  You should be able to do much of this lab without leaving Jupyter Notebook.  The main exception will be some parts of the some of the programming assignments.  The instructions will make it clear when you should use the terminal.\n",
    "\n",
    "### Logging In\n",
    "\n",
    "If you haven't already, you can go to [the login section of the lab](#Logging-In-To-the-Course-Tools) and follow the instructions to login into the course infrastructure.\n",
    "\n",
    "### Running Code\n",
    "\n",
    "Jupyter Notebooks are made up of \"cells\".  Some have Markdown-formatted text in them (like this one).  Some have Python code (like the one below).\n",
    "\n",
    "For code cells, you press `shift-return` to execute the code.  Try it below:"
   ]
  },
  {
   "cell_type": "code",
   "execution_count": null,
   "metadata": {
    "editable": false
   },
   "outputs": [],
   "source": [
    "print(\"I'm in python\")"
   ]
  },
  {
   "cell_type": "markdown",
   "metadata": {
    "editable": false
   },
   "source": [
    "Code cells can also execute shell commands using the `!` operator.  Try it below:"
   ]
  },
  {
   "cell_type": "code",
   "execution_count": null,
   "metadata": {
    "editable": false
   },
   "outputs": [],
   "source": [
    "!echo \"I'm in a shell\""
   ]
  },
  {
   "attachments": {
    "image.png": {
     "image/png": "[encoded data removed]"
    }
   },
   "cell_type": "markdown",
   "metadata": {
    "editable": false
   },
   "source": [
    "### Telling What The Notebook is Doing\n",
    "\n",
    "The notebook will only run one cell at a time, so if you press `shift-return` several times, the cells will wait for one another.  You can tell that a cell is waiting if it there's a `*` in the `[]` to the left the cell:\n",
    "\n",
    "![image.png](attachment:image.png)\n"
   ]
  },
  {
   "attachments": {
    "image.png": {
     "image/png": "[encoded data removed]"
    }
   },
   "cell_type": "markdown",
   "metadata": {
    "editable": false
   },
   "source": [
    "You'll can also tell _where_ the notebook is executing by looking at the table of contents on the left.  The section with the currently-executing cell will be red:\n",
    "\n",
    "![image.png](attachment:image.png)"
   ]
  },
  {
   "attachments": {
    "image.png": {
     "image/png": "[encoded data removed]"
    }
   },
   "cell_type": "markdown",
   "metadata": {
    "editable": false
   },
   "source": [
    "### What to Do If Jupyter Notebook It Gets Stuck\n",
    "\n",
    "First, check if it's actually stuck: Some of the cells take a while, but they will usually provide some visual sign of progress.  If _nothing_ is happening for more than 10 seconds, it's probably stuck.\n",
    "\n",
    "To get it unstuck, you stop execution of the current cell with the \"interrupt button\":\n",
    "\n",
    "![image.png](attachment:image.png)"
   ]
  },
  {
   "attachments": {
    "image.png": {
     "image/png": "[encoded data removed]"
    }
   },
   "cell_type": "markdown",
   "metadata": {
    "editable": false
   },
   "source": [
    "You can also restart the underlying python instance (i.e., the confusingly-named \"kernel\" which is not the same thing as the operating system kernel) with the restart button:\n",
    "\n",
    "![image.png](attachment:image.png)\n",
    "\n",
    "Once you do this, all the variables defined by earlier cells are gone, so you may get some errors.  You may need to re-run the cells in the current section to get things to work again.\n",
    "\n",
    "You can also try reloading the web page.  That will leave Python kernel intact, but it can help with some problems."
   ]
  },
  {
   "attachments": {
    "image.png": {
     "image/png": "[encoded data removed]"
    }
   },
   "cell_type": "markdown",
   "metadata": {
    "editable": false
   },
   "source": [
    "### Common Errors and Non-Errors\n",
    "\n",
    "1.  If you get `sh: 0: getcwd() failed: no such file or directory`, restart the kernel.\n",
    "2.  If you get `INFO:MainThread:numexpr.utils:Note: NumExpr detected 40 cores but \"NUMEXPR_MAX_THREADS\" not set, so enforcing safe limit of 8.`.  It's not a real error.  Ignore it. \n",
    "3.  If you get a prompt asking `Do you want to cancel them and run this job?` but you can't reply because you can't type into an output cell in Jupyter notebook, replace `cse142 job run` with `cse142 job run --force`. (see useful tip below.)\n",
    "4.  If you get an `Error: Your request failed on the server: 500 Server Error: Internal Server Error for url=http://cse142l-dev.wl.r.appspot.com/file`, trying running the job again.\n",
    "5.  Sometimes `cse142 job run` will just sit there and seemingly do nothing.  Weirdly, interrupting the kernel (button above) seems to jolt it awake and cause it to continue.\n",
    "6.  These errors while display CFGs are harmless:\n",
    "![image.png](attachment:image.png)\n",
    "6.  Warnings like this in pink about deprecated or ignored arguments are harmless:"
   ]
  },
  {
   "attachments": {
    "image.png": {
     "image/png": "[encoded data removed]"
    }
   },
   "cell_type": "markdown",
   "metadata": {
    "editable": false
   },
   "source": [
    "![image.png](attachment:image.png)"
   ]
  },
  {
   "cell_type": "markdown",
   "metadata": {
    "editable": false
   },
   "source": [
    "7. If you get `http.cookiejar.LoadError: '/home/youruserrname/.djr-cookies.txt does not look like like a Netscape format cookies file.` remove the file and re-authenticate."
   ]
  },
  {
   "attachments": {
    "image.png": {
     "image/png": "[encoded data removed]"
    }
   },
   "cell_type": "markdown",
   "metadata": {
    "editable": false
   },
   "source": [
    "### Useful Tips\n",
    "\n",
    "1.  If you need to edit a cell, but you can't you can unlock it by pressing this button in the tool bar (although you probably shouldn't do this because it might make the lab work incorrectly.  A better choice is to copy and paste the cell, _and then_ unlock the copy):\n",
    "![image.png](attachment:image.png)"
   ]
  },
  {
   "attachments": {
    "image.png": {
     "image/png": "[encoded data removed]"
    }
   },
   "cell_type": "markdown",
   "metadata": {
    "editable": false
   },
   "source": [
    "### The Embedded Code\n",
    "\n",
    "The code embedded in the lab falls into two categories:\n",
    "\n",
    "1.  Code you need to edit and understand.\n",
    "2.  Code that you do not need to edit or understand -- it's just there to display something for you.\n",
    "\n",
    "For code in the first category, the lab will make it clear that you need to study, modify, and/or run the code.  If we don't explicitly ask you to do something, you don't need to.\n",
    "\n",
    "Most of the code in the second category is for drawing graphs.  You can just run it with shift-return to the see the results.  If you are curious, it's mostly written with `Pandas` and `matplotlib`.   These cells should be un-editable.  However, if you want to experiment with them, you can copy _the contents_ of the cell into a new cell and do whatever you want (If you copy the cell, the copy will also be uneditable).\n",
    "\n",
    "<div class=\"alert alert-block alert-info\">\n",
    "\n",
    "**Most Cells are Immutable** Many of the cells of this notebook are uneditable. The only ones you should edit are some of the code cells and the text cells with questions in them.\n",
    "</div>\n",
    "\n",
    "<div class=\"alert alert-block alert-info\">\n",
    "\n",
    "**Pro Tip** The \"carrot\" icon in the lower right (shown below) will open a scratch pad area.  It can be a useful place to do math (or whatever else you want).\n",
    "    \n",
    "![image.png](attachment:image.png)\n",
    "</div>"
   ]
  },
  {
   "attachments": {
    "image.png": {
     "image/png": "[encoded data removed]"
    }
   },
   "cell_type": "markdown",
   "metadata": {
    "editable": false
   },
   "source": [
    "### Showing Your Work\n",
    "\n",
    "Several questions ask you to show your work for calculations.  We don't need anything fancy.  Many of the questions ask you to compute something based on results of an experiment.  Your experimental results will be different than others', so your answer will be different as well.\n",
    "\n",
    "To make it possible to grade your work (and give you partial credit), we need to know where your answer came from.  This is why you need to show your work.  For instance this would be fine as answer to \"On average, how many weeks do you have per lab?\":\n",
    "\n",
    "```\n",
    "Weeks in quarter/# of labs = 10/5 = 2 weeks/lab\n",
    "```\n",
    "\n",
    "2 significant figures is sufficient in all cases, but you can include more, if you want.\n",
    "\n",
    "If you are feeling fancy, you can use LaTex, but it's not at all required.\n",
    "\n",
    "When it's appropriate, you can also paste in images.  However, Jupyter Notebook is flaky about it.  Saving your notebook frequently by clicking the disk icon seems to help:\n",
    "\n",
    "![image.png](attachment:image.png)"
   ]
  },
  {
   "cell_type": "markdown",
   "metadata": {
    "editable": false
   },
   "source": [
    "### Answering Questions\n",
    "\n",
    "Throughout this document, you'll see some questions (like the one below).  You can double click on them to edit them and fill in your answer.  Try not to mess up the formatting (so it's easy for us to grade), but at least make sure your answer shows up clearly.  When you are done editing, you can `shift-return` to make it pretty again.\n",
    "\n",
    "A few tips, pointers, and caveats for answering questions:\n",
    "\n",
    "1. The answers are all in [github-flavored markdown](https://guides.github.com/features/mastering-markdown/) with some html sprinkled in.  Leave the html alone.\n",
    "2. Many answers require you to fill in a table, and many of the `|` characters will be missing.  You'll need to add them back.\n",
    "3. The HTML needs to start at the beginning of a line.  If there are spaces before a tag, it won't render properly.  If you accidentally add white space at the beginning of a line with an html tag on it, you'll need to fix it.\n",
    "4. Text answers also need to start at the beginning of a line, otherwise they will be rendered as code.\n",
    "5. Press `shift-return` or `option-return` to render the cell and make sure it looks good.\n",
    "6. There needs to be a blank line between html tags and markdown.  Otherwise, the markdown formatting will not appear correctly.\n",
    "\n",
    "\n",
    "You'll notice that there are three kinds of questions: \"Correctness\", \"Completeness\", and \"Optional\".  You need to provide an answer to the \"Completeness\" questions, but you won't be graded on its correctness.  You'll need to answer \"Correctness\" questions correctly to get credit.  The \"Optional\" questions are optional."
   ]
  },
  {
   "cell_type": "markdown",
   "metadata": {
    "editable": false
   },
   "source": [
    " \n"
   ]
  },
  {
   "cell_type": "markdown",
   "metadata": {
    "editable": false
   },
   "source": [
    "Give it a try:"
   ]
  },
  {
   "cell_type": "markdown",
   "metadata": {
    "cse142L.is_response": true,
    "cse142L.points": 1,
    "cse142L.question_type": "completeness",
    "deletable": false,
    "editable": true,
    "solution2": "hidden",
    "solution2_first": true
   },
   "source": [
    "<div class='question completeness'>\n",
    "    \n",
    "<div class=\"question-text\">\n",
    "\n",
    "What will you do with your Jupyter Notebook to turn it in (Delete _all_ incorrect answers)? Then fill in the table.  Fix the formatting of the last line and the closing tag.\n",
    "</div>\n",
    "\n",
    "<div class=\"answer\">\n",
    "    \n",
    "1.  Print it out on paper and slide it under the professor's door.\n",
    "\n",
    "2.  Follow the directions at the end of the lab to produce a pdf\n",
    "\n",
    "3.  Read it aloud to a TA during office hours\n",
    "    \n",
    "4.  Submit via gradescope.\n",
    "    \n",
    "| Random Fact         | Value | Second choice |\n",
    "|---------------------|-------|---------------|\n",
    "| Your favorite color |      \n",
    "| Favorite food on campus | \n",
    "| Time of day ||\n",
    "    \n",
    "    This answer is formatted poorly.\n",
    "    </div>\n",
    "</div>"
   ]
  },
  {
   "cell_type": "markdown",
   "metadata": {
    "editable": false,
    "solution2": "hidden"
   },
   "source": [
    "<div class=\"solution\">\n",
    "\n",
    "This is a solution to a \"completeness\" or \"optional\" problem.  It'll give some details of how to solve the problem.  The solutions I give will be much more complete and detailed than what you need to provide for your answers to questions.\n",
    "    \n",
    "In this case, let's analyze each possible answer:\n",
    "    \n",
    "1.  ~Since the professor is a CS professor, he doesn't know how to deal with paper and the TAs do most of the grading, so this a poor choice.~\n",
    "2.  \"Following the directions\" is always a good idea.\n",
    "3.  ~There are  about 300 of you enrolled.  The poor TAs would die of exhaustion and boredom.~\n",
    "4.  Yes!\n",
    "\n",
    "So you should have deleted 1 and 3.\n",
    "\n",
    "For the table, you can enter whatever you want for the answers, but note that some of the `|`s are missing.  It renders fine in question, but you'll need to add the `|`s back to fill out the table.\n",
    "    \n",
    "For the last line, there are spaces before the text, so it gets rendered in a fixed-width font.  You should remove the leading spaces, so it looks like this:\n",
    "    \n",
    "This is formatted ~poorly~ beautifully.\n",
    "\n",
    "Likewise, remove the leading space before the `<div>`."
   ]
  },
  {
   "cell_type": "markdown",
   "metadata": {
    "editable": false
   },
   "source": [
    "# Logging In To the Course Tools"
   ]
  },
  {
   "cell_type": "markdown",
   "metadata": {
    "editable": false
   },
   "source": [
    "    \n",
    "In the course you will use some specialized tools to let you perform detailed measurements of program behavior.  To use them you need to login with your `@ucsd.edu` email address using the instructions below. **You need to use the email address that appears on the course roster.  That's the email address we created an account for.  In almost all cases, this is your `@ucsd.edu` email address.**\n",
    "\n",
    "You'll probably only have to do this once this quarter, but if you get an error about not being authenticated, just re-authenticate.  You can return to this notebook (or any other of the lab notebooks) to login at any time.\n",
    "\n",
    "Here's what to do:\n",
    "\n",
    "1.  Enter your `@ucsd.edu` email address in quotes after `login` below.  It'll take a few seconds to load.\n",
    "2.  Click the google \"G\" login button below and login with your `@ucsd.edu` email address. \n",
    "3. **Click the google button regardless of whether it says \"sign in\" or \"signed in\".  Then be sure to select your `@ucsd.edu account` if it shows you multiple google acocunts**\n",
    "4. You'll see a very long string numbers an letters appear above.  Click \"Copy it\" to copy it.\n",
    "\n",
    "**Note:** If it doesn't give you a choice about which account to log into and authentication fails, that means you are logged into a single Google account and that account is _not_ your `@ucsd.edu` account.  You'll have to log into your `@ucsd.edu` through Gmail or through Chrome's account manager and then try again.\n",
    "\n",
    "<div class=\"alert alert-block alert-danger\">\n",
    "\n",
    "**Use Chrome** The login process doesn't seem to work properly with Safari or Firefox.  Use Chrome to login.  You can use any of the other compatible browsers you want for the doing the rest of the lab, and it should be fine.\n",
    "\n",
    "</div>\n",
    "\n"
   ]
  },
  {
   "cell_type": "code",
   "execution_count": null,
   "metadata": {
    "editable": true
   },
   "outputs": [],
   "source": [
    "login(\"<Your @ucsd.edu email address>\") \n"
   ]
  },
  {
   "cell_type": "markdown",
   "metadata": {
    "editable": false
   },
   "source": [
    "Next step:  Paste it below between the quote marks.  Press `shift-return`."
   ]
  },
  {
   "cell_type": "code",
   "execution_count": null,
   "metadata": {
    "editable": true
   },
   "outputs": [],
   "source": [
    "token(\"your_token\") \n"
   ]
  },
  {
   "cell_type": "markdown",
   "metadata": {
    "editable": false
   },
   "source": [
    "It should have replied with\n",
    "\n",
    "``` \n",
    "You are authenticated as <your email>\n",
    "```\n",
    "\n",
    "You are now logged in!  Try submitting a job: "
   ]
  },
  {
   "cell_type": "code",
   "execution_count": null,
   "metadata": {
    "editable": false
   },
   "outputs": [],
   "source": [
    "!cse142 job run \"echo Hello World\""
   ]
  },
  {
   "cell_type": "markdown",
   "metadata": {
    "editable": false
   },
   "source": [
    "If you see \"Hello World\", you're all set.  Proceed with the lab!\n",
    "\n",
    "<div class=\"alert alert-block alert-danger\">\n",
    "\n",
    "Delete your token from the above cell (`token(\"...\")`). Because your token is essentially your username and password combined, you should treat it like a password or ssh private key.  **Sharing your token with another student or possessing another student's token is an AI violation**.\n",
    "</div>"
   ]
  },
  {
   "cell_type": "markdown",
   "metadata": {
    "editable": false
   },
   "source": [
    " \n"
   ]
  },
  {
   "cell_type": "markdown",
   "metadata": {
    "editable": false
   },
   "source": [
    "# Grading\n",
    "\n",
    "This is a 2 week lab.\n",
    "\n",
    "Your grade for this lab will be based on your completion and submission of this notebook.\n",
    "\n",
    "| Part                       | value |\n",
    "|----------------------------|-------|\n",
    "| Reading quiz               | 3%    |\n",
    "| Jupyter Notebook           | 65%   |\n",
    "| Programming Assignment     | 30%    |\n",
    "| Post-lab survey            | 2%    |\n",
    "\n",
    "We will grade 5 of the \"completeness\" problems.  They are worth 3 points each.  We will grade all of the \"correctness\" questions.\n",
    "\n",
    "Check Gradescope for the due dates.\n",
    "\n",
    "Instructions for submitting the lab are at the end of the lab.\n",
    "\n",
    "No late work or extensions will be allowed for anything less than severe system outages.\n"
   ]
  },
  {
   "cell_type": "markdown",
   "metadata": {
    "editable": false
   },
   "source": [
    "# Academic Integrity Agreement"
   ]
  },
  {
   "cell_type": "markdown",
   "metadata": {
    "editable": false
   },
   "source": [
    "To continue in the class, you need to agree to the following:\n",
    "\n",
    "At UCSD, academic integrity[1] means that you have the courage, even when\n",
    "it is difficult, to only submit academic work that is honest,\n",
    "responsible, respectful, fair, and trustworthy. When you excel with\n",
    "integrity in computer science, it means that you:\n",
    "\n",
    "\n",
    "**Honest** submit work that is a truthful demonstration of your\n",
    "            knowledge and abilities (rather than the knowledge and\n",
    "            abilities of another)\n",
    "\n",
    "**Responsible** manage your time so that you are not pressured to\n",
    "            complete an assignment at the last minute\n",
    "\n",
    "**Respectful** acknowledge the contributions of others to your work by\n",
    "            citing them when you've used their words or ideas (e.g., after\n",
    "            I've spoken to classmates or after I've used portions of\n",
    "            a code written by another if permitted)\n",
    "\n",
    "**Fair** complete your academic work according to stated standards and\n",
    "            expectations even when it takes longer or re struggling\n",
    "\n",
    "**Trustworthy** can be trusted to be honest, responsible, respectful,\n",
    "            and fair even when no one is watching you.\n",
    "\n",
    "\n",
    "When you act contrary to these values, you are cheating. Cheating\n",
    "undermines trust between students and professors, the value of the\n",
    "UCSD degree, and your learning/development of skills.\n",
    "\n",
    "While we can't list every behavior that would be cheating, we can give\n",
    "you some illustrative examples like the following:\n",
    "\n",
    "* Submitting any source code written by another person or copied from\n",
    "  another person, submitting homework answers which were produced by\n",
    "  another student.\n",
    "\n",
    "* Submitting code/homework you have previously submitted to another\n",
    "  course for credit without first obtaining permission from the \n",
    "  instructor. The same restriction holds for publicly available\n",
    "  code/homework solutions that you haven't written.  Taking notes\n",
    "  taken during any discussions with classmates about an assignment is\n",
    "  prohibited.\n",
    "\n",
    "* Using words or text written by someone else without citing text\n",
    "  appropriately. Every figure or sentence fragment must be\n",
    "  appropriately decorated with quotation marks or indention to\n",
    "  indicate very clearly that someone else wrote the text. In addition,\n",
    "  the passage must be labeled with a citation or citation number which\n",
    "  refers to a footnote or bibliographic entry. Citing a paper once is\n",
    "  not enough. Remember: citations should be used to illuminate a\n",
    "  viewpoint which you hold. They are not a substitute for expressing\n",
    "  your own ideas in your own words.\n",
    "\n",
    "* Submitting any portion(s) of an assignment you have previously\n",
    "  submitted for credit in another course.\n",
    "\n",
    "* Copying from a neighbor during an exam or using an unauthorized aid\n",
    "  to help you on your exam.\n",
    "\n",
    "* Altering a graded exam or assignment and resubmitting it for regrade\n",
    "\n",
    "* Allowing someone else to complete an assignment or exam for you, or\n",
    "  allowing them to pretend to be you in class (e.g., by signing an\n",
    "  attendance form or clicking for you).\n",
    "\n",
    "* Making available to others source code, documentation, or notes\n",
    "  useful for completing an assignment. You should neither produce,\n",
    "  procure, nor accept such material. This includes students in\n",
    "  current, past, and future offerings of the course, and applies to\n",
    "  electronic transmissions including email, web pages, ftp, and so on,\n",
    "  as well as hard copy such as source code listings.\n",
    "\n",
    "* Possessing (at any time) source code, data, or answers to homeworks or \n",
    "  lab questions created by another student.  Having had \n",
    "  any of these items in your possession (e.g., in your directory on the \n",
    "  campus servers or on your personal computer) at any time, constitutes \n",
    "  cheating.  You should never accept these materials from anyone for any \n",
    "  reason.\n",
    "  \n",
    "* Running other students' code from your account or allowing another student submit code using your credentials.\n",
    "\n",
    "If the behavior you are considering isn't listed here, don't assume that it is\n",
    "allowed.  Rather, you should always do independent work unless told otherwise. And\n",
    "before completing your academic work in a certain way, you should ask\n",
    "is it honest, respectful, responsible, fair, and trustworthy.  You can also ask yourself \"Would\n",
    "I be okay if my methods were exposed to the TA, professors, and fellow students?\" If the\n",
    "answer is no, you shouldn't do it.\n",
    "\n",
    "**If you have any questions about what is and isn't cheating, be sure\n",
    "  to discuss them with the instructor.**\n",
    "\n",
    "Any student who cheats, thereby undermining integrity, will be\n",
    "reported to the Academic Integrity Office.  Students who cheat face\n",
    "various disciplinary sanctions as well as academic penalty imposed by\n",
    "the instructor in the course.  _Academic penalties include, but are\n",
    "not limited to, receiving a grade of 0 for the assignment or test in\n",
    "question, and receiving an 'F' for the course._\n",
    "\n",
    "[1] For more information on academic integrity, including how you can\n",
    "excel with integrity, as well as information on sanctioning guidelines\n",
    "for cheating, visit the Academic Integrity Office website at:\n",
    "http://academicintegrity.ucsd.edu"
   ]
  },
  {
   "cell_type": "markdown",
   "metadata": {
    "cse142L.is_response": true,
    "cse142L.points": 1,
    "cse142L.question_type": "correctness",
    "deletable": false,
    "editable": true
   },
   "source": [
    "<div class=\"question correctness points-1\">\n",
    "\n",
    "<div class=\"question-text\"> Please affirm your adherence to this agreement</div>\n",
    "\n",
    "Type 'I excel with integrity' here: [` type it (leave the brackets)`]\n",
    "\n",
    "By submitting this file, I, [`Your Name`], a student enrolled in\n",
    "CSE142L affirm the principle of academic integrity and commit to excel\n",
    "with integrity by completing all academic assignments in the manner\n",
    "expected as described above, informing the instructor of suspected\n",
    "instances of academic misconduct by my peers, and fully engaging in\n",
    "the class and its related assignments for the purpose of learning.\n",
    "\n",
    "To electronically sign this document, Enter your full name, date, and\n",
    "student ID below:\n",
    "\n",
    "[` full name            `] / [` date `] / [`Student ID #              `]\n",
    "\n",
    "**This document was written in part by Rick Ord, CSE Lecturer and Dr. Bertram Gallant, Director of the UCSD Academic Integrity Office.**\n",
    "\n",
    "\n",
    "</div>"
   ]
  },
  {
   "cell_type": "markdown",
   "metadata": {
    "editable": false
   },
   "source": [
    "# Skills to Learn\n",
    "\n",
    "1. Get access to docker\n",
    "2. `git`/GitHub basics\n",
    "3. Navigating a Jupyter Notebook\n",
    "4. Understanding cfiddle code\n",
    "5. Think about code and predict its behavior.\n",
    "6. Optimize a simple algorithm."
   ]
  },
  {
   "cell_type": "markdown",
   "metadata": {
    "editable": false
   },
   "source": [
    "# Building and Running Code"
   ]
  },
  {
   "cell_type": "markdown",
   "metadata": {
    "editable": false
   },
   "source": [
    "In these labs you will be doing most of your coding within Jupyter Notebook using an interactive code analysis system called `cfiddle` (https://github.com/NVSL/cfiddle).  Cfiddle is a Python library that lets you write code, compile it, analyze it, execute it, and analyze its performance all in a Jupyter Notebook."
   ]
  },
  {
   "cell_type": "markdown",
   "metadata": {
    "editable": false
   },
   "source": [
    "## Compiling and Inspecting Code with CFiddle"
   ]
  },
  {
   "cell_type": "markdown",
   "metadata": {
    "editable": false
   },
   "source": [
    "Here's how you compile Hello World with Cfiddle:"
   ]
  },
  {
   "cell_type": "code",
   "execution_count": null,
   "metadata": {
    "editable": false
   },
   "outputs": [],
   "source": [
    "hello_world = build(code(r\"\"\"\n",
    "#include\"cfiddle.hpp\" // Connect to Cfiddle's performance measurement mechanisms.\n",
    "#include<iostream>\n",
    "\n",
    "extern \"C\" void hello_world(int k) {\n",
    "    start_measurement(); // start measuring\n",
    "    uint64_t sum = 0;\n",
    "    for(int i = 0; i < k; i++) {\n",
    "        sum += i;\n",
    "    }\n",
    "    \n",
    "    std::cout << \"Hello World! The sum of the day is \" << sum << \".\\n\";\n",
    "    end_measurement(); // stop measuring\n",
    "}\n",
    "\n",
    "\"\"\", file_name=\"hello_world.cpp\"))"
   ]
  },
  {
   "cell_type": "markdown",
   "metadata": {
    "editable": false
   },
   "source": [
    "The `code()` function takes a Python string, writes it to a file and returns the filename.  The `r` before the string makes it a \"raw\" string which disables Python's escape sequence processing.  `extern \"C\"` makes it easier to find `hello_world`.  We'll learn more about it in the next lab.\n",
    "\n",
    "The `hello_world` is now _an array_ of Python objects that represent compiled code.  Usually, we'll just be interested in the first element of the array.  For instance, we can look at the code itself:"
   ]
  },
  {
   "cell_type": "code",
   "execution_count": null,
   "metadata": {
    "editable": false
   },
   "outputs": [],
   "source": [
    "hello_world[0].source()"
   ]
  },
  {
   "cell_type": "markdown",
   "metadata": {
    "editable": false
   },
   "source": [
    "Or it's assembly:\n"
   ]
  },
  {
   "cell_type": "code",
   "execution_count": null,
   "metadata": {
    "editable": false
   },
   "outputs": [],
   "source": [
    "hello_world[0].asm(\"hello_world\")"
   ]
  },
  {
   "cell_type": "markdown",
   "metadata": {
    "editable": false
   },
   "source": [
    "We can also configure how the code is compiled.  For instance, we can compile it with optimizations by setting the `build_parameters` argument:"
   ]
  },
  {
   "cell_type": "code",
   "execution_count": null,
   "metadata": {
    "editable": false
   },
   "outputs": [],
   "source": [
    "hello_world_twice = build(\"hello_world.cpp\", build_parameters=arg_map(OPTIMIZE=[\"-O0\", \"-O4\"]))"
   ]
  },
  {
   "cell_type": "markdown",
   "metadata": {
    "editable": false
   },
   "source": [
    "the `arg_map` is a utility function that generates all combinations of its arguments (we'll see more of this later), but for now the important part is that it will compile with and without optimizations.  The result is that the `hello_world` has two entries in:  The first is the compiled code without optimizations and second is the code with optimizations.  We can now compare the assembly for the two:"
   ]
  },
  {
   "cell_type": "code",
   "execution_count": null,
   "metadata": {
    "editable": false
   },
   "outputs": [],
   "source": [
    "compare([hello_world_twice[0].asm(\"hello_world\"), hello_world_twice[1].asm(\"hello_world\")])"
   ]
  },
  {
   "cell_type": "markdown",
   "metadata": {
    "cse142L.is_response": true,
    "cse142L.question_type": "optional",
    "deletable": false,
    "editable": true
   },
   "source": [
    "<div class=\"question optional\">\n",
    "\n",
    "<div class=\"question-text\"> What did the compiler do? (We'll investigate this in detail in Lab 2)</div>\n",
    "    \n",
    "<div class=\"answer\">\n",
    "</div>\n",
    "   \n",
    "</div>"
   ]
  },
  {
   "cell_type": "markdown",
   "metadata": {
    "editable": false
   },
   "source": [
    "## Running Code With CFiddle"
   ]
  },
  {
   "cell_type": "markdown",
   "metadata": {
    "editable": false
   },
   "source": [
    "Cfiddle can also run code.  Let's run `hello_world()`:"
   ]
  },
  {
   "cell_type": "code",
   "execution_count": null,
   "metadata": {
    "editable": false
   },
   "outputs": [],
   "source": [
    "results = run(hello_world, function=\"hello_world\", arguments=arg_map(k=4))"
   ]
  },
  {
   "cell_type": "markdown",
   "metadata": {
    "editable": false
   },
   "source": [
    "The `function` argument tells `cfiddle` which function to invoke, and `arguments` get passed to the function.  \n",
    "\n",
    "Running the code took a while, because, for this class, `cfiddle` is configured to run your code on our servers in the cloud, but you can see the output buried in there:\n",
    "\n",
    "```\n",
    "Hello World! The number of the day is 6.\n",
    "```\n",
    "\n",
    "`results` now has some measurements about the execution of `hello_world()`. We can render them as \"data frame\" with is a fancy 2D array with labeled columns (Technically it's a [Pandas data frame](https://pandas.pydata.org/docs/reference/api/pandas.DataFrame.html)):"
   ]
  },
  {
   "cell_type": "code",
   "execution_count": null,
   "metadata": {
    "editable": false
   },
   "outputs": [],
   "source": [
    "results.as_df()"
   ]
  },
  {
   "cell_type": "markdown",
   "metadata": {
    "editable": false
   },
   "source": [
    "These numbers don't mean much to you at the moment, but, for instance,  `ET` is the execution time.  So we can see that running `hello_world` didn't take very long when `k` is 4.  It's so short, in fact, that I doubt measurement is accurate. We need at least 0.3 seconds of execution for an accurate measurement.\n",
    "\n",
    "We can also run `hello_world()` with different parameters and different compilation options.  We can pass a list of values to `arg_map()` that vastly increase `k`, and we'll use `hello_world_twice` which holds two different compiled versions of our function."
   ]
  },
  {
   "cell_type": "code",
   "execution_count": null,
   "metadata": {
    "cse142L.is_response": true,
    "deletable": false,
    "editable": true
   },
   "outputs": [],
   "source": [
    "\n",
    "# this one takes a while.  But less than a minute.\n",
    "results = run(hello_world_twice, function=\"hello_world\", arguments=arg_map(k=[400000000,800000000,1600000000]))"
   ]
  },
  {
   "cell_type": "markdown",
   "metadata": {
    "editable": false
   },
   "source": [
    "Here, `cfiddle` ran `hello_world()` a total of 6 times for the 6 combinations of compiler flags and values for `k`:  Three times without optimizations with `k == 400000000, 800000000, 1600000000` and three times with optimizations.  And we have the results to prove it:"
   ]
  },
  {
   "cell_type": "code",
   "execution_count": null,
   "metadata": {
    "editable": false
   },
   "outputs": [],
   "source": [
    "results.as_df()"
   ]
  },
  {
   "cell_type": "markdown",
   "metadata": {
    "cse142L.is_response": true,
    "cse142L.points": 2,
    "cse142L.question_type": "correctness",
    "deletable": false,
    "editable": true
   },
   "source": [
    "<div class=\"question correctness points-2\">\n",
    "\n",
    "<div class=\"question-text\">\n",
    "\n",
    "How much speedup does `-O4` provide compared to `-O0` for the smallest and largest value of `k`?\n",
    "\n",
    "</div>\n",
    "\n",
    "<div class=\"answer\">\n",
    "\n",
    "\n",
    "    \n",
    "\n",
    "    \n",
    "\n",
    "\n",
    "</div>\n",
    "    \n",
    "</div>"
   ]
  },
  {
   "cell_type": "markdown",
   "metadata": {
    "cse142L.is_response": true,
    "cse142L.points": 1,
    "cse142L.question_type": "completeness",
    "deletable": false,
    "editable": true
   },
   "source": [
    "<div class=\"question completeness\">\n",
    "\n",
    "<div class=\"question-text\">\n",
    "\n",
    "Add another value of `k` to the cell above that is 2x the highest value.  Re-run the experiment and analyze the speedup.  What happened?  Why (give your best idea)?\n",
    "\n",
    "</div>\n",
    "\n",
    "<div class=\"answer\">\n",
    "\n",
    "\n",
    "</div>\n",
    "    \n",
    "</div>"
   ]
  },
  {
   "cell_type": "markdown",
   "metadata": {
    "editable": false
   },
   "source": [
    "# Analyzing Program Behavior with the Performance Equation"
   ]
  },
  {
   "cell_type": "markdown",
   "metadata": {
    "editable": false
   },
   "source": [
    "<div class=\"alert alert-block alert-success\">\n",
    "    \n",
    "**Keep track of questions you have.**  This lab is more about collecting questions than finding answers.  I've called out some interesting questions throughout the lab.  The last question of the lab asks for _other_ questions you had while examining the data you'll collect below, so keep track of them as you work through the lab.\n",
    "\n",
    "</div>"
   ]
  },
  {
   "cell_type": "markdown",
   "metadata": {
    "editable": false
   },
   "source": [
    "## Meet the Code!\n",
    "\n",
    "In this lab we are going to analyze a few simple functions in`microbench.cpp`.  The first is `baseline_int()`:"
   ]
  },
  {
   "cell_type": "code",
   "execution_count": null,
   "metadata": {
    "editable": false,
    "init_cell": true
   },
   "outputs": [],
   "source": [
    "microbench = build(\"microbench.cpp\")\n",
    "microbench[0].source(\"baseline_int\")"
   ]
  },
  {
   "cell_type": "markdown",
   "metadata": {
    "editable": false
   },
   "source": [
    "`baseline_int()`  initializes `array` and then does some multiplies and additions to update it's contents.  It's not a useful computation, so don't spend time trying to figure out what it does.  The `reps` argument controls how many times we'll run it."
   ]
  },
  {
   "cell_type": "markdown",
   "metadata": {
    "editable": false
   },
   "source": [
    "## Measuring The Performance Equation\n",
    "Now that we know how to take measurements, we can try to understand `baseline_int()`'s performance.  We will do this using the performance equation:\n",
    "\n",
    "```\n",
    "ET = IC * CPI * CT\n",
    "```\n",
    "\n",
    "So, we'll need to measure `IC` (instruction count), `CPI` (cycles per instruction), `CT` (cycle time), and `ET`, and we'll do that using \"performance counters\".  Performance counters are the CPU provides to count events that occur in the processor.  \n",
    "\n",
    "`cfiddle` has support for for reading performance counters built in, we just need to tell it to collect data.  We can do that by passing some extra options to `run()`.  Here's what they mean:\n",
    "\n",
    "1. Passing `run_options` to `run()` lets us control the execution environment for the program.  `MHz` set's the clock speed.\n",
    "2. `perf_counters` controls which performance counters we collect. \n",
    "\n",
    "In this case, `PERF_COUNT_HW_INSTRUCTIONS`, and `PERF_COUNT_HW_CPU_CYCLES` count the number of instructions executed and the number of CPU cycles, respectively.  There are hundreds of other events we can count.  We'll use some of them later in the class."
   ]
  },
  {
   "cell_type": "code",
   "execution_count": null,
   "metadata": {
    "editable": false
   },
   "outputs": [],
   "source": [
    "r = run(microbench, \n",
    "    function=\"baseline_int\", \n",
    "    arguments=arg_map(size=[1024*1024], reps = 25), \n",
    "    run_options=arg_map(MHz=[3500]), \n",
    "    perf_counters=[\"PERF_COUNT_HW_INSTRUCTIONS\", \"PERF_COUNT_HW_CPU_CYCLES\"])"
   ]
  },
  {
   "cell_type": "markdown",
   "metadata": {
    "editable": false
   },
   "source": [
    "Here's the raw output"
   ]
  },
  {
   "cell_type": "code",
   "execution_count": null,
   "metadata": {
    "editable": false
   },
   "outputs": [],
   "source": [
    "display(r.as_df())"
   ]
  },
  {
   "cell_type": "markdown",
   "metadata": {
    "editable": false
   },
   "source": [
    " The key fields are `ET` (execution time) and the results of the performance counter measurements: `PERF_COUNT_HW_INSTRUCTIONS` and `PERF_COUNT_HW_CPU_CYCLES`. "
   ]
  },
  {
   "cell_type": "markdown",
   "metadata": {
    "cse142L.is_response": true,
    "cse142L.points": 4,
    "cse142L.question_type": "correctness",
    "deletable": false,
    "editable": true
   },
   "source": [
    "<div class=\"question correctness points-4\">\n",
    "\n",
    "<div class=\"question-text\"> \n",
    "    \n",
    "Using the value names in the table above, give expressions for `IC`, `CT`, and `CPI`. (You cannot use `ET` in your expressions.)\n",
    "    \n",
    "</div>\n",
    "    \n",
    "<div class=\"answer\">\n",
    "    \n",
    "* `IC` = \n",
    "* `CPI` = \n",
    "* `CT` = \n",
    "</div>\n",
    "   \n",
    "\n",
    "\n",
    "</div>"
   ]
  },
  {
   "cell_type": "markdown",
   "metadata": {
    "editable": false
   },
   "source": [
    "Then we'll do some calculations on the output and print them nicely.  `PE_calc()` applies the same math you figured out for the question above (assuming you got it right) to the results.  We're going to use this many times throughout the course."
   ]
  },
  {
   "cell_type": "code",
   "execution_count": null,
   "metadata": {
    "editable": false
   },
   "outputs": [],
   "source": [
    "PE_calc(r.as_df())"
   ]
  },
  {
   "cell_type": "markdown",
   "metadata": {
    "editable": false
   },
   "source": [
    "We are going to see a lot of data like this so, let's be clear about what they mean:\n",
    "\n",
    "| function | size| requestedMHz|realMHz|cycles|IC | CPI | CT | ET | \n",
    "|----------|-----|-----------|-------|----|-----|----|----|--|\n",
    "| function | size of `array` |  MHz requested| Measured MHZ| Processor Cycles| dynamic instructions executed | Cycles/instruction | Cycle Time | Execution Time  |\n",
    "\n",
    "Note that `MHz` and `realMHz` don't quite match.  This can be due to noise in measurements or the processor running faster than we requested."
   ]
  },
  {
   "cell_type": "markdown",
   "metadata": {
    "editable": false
   },
   "source": [
    "## Meet Your Processor"
   ]
  },
  {
   "cell_type": "markdown",
   "metadata": {
    "editable": false
   },
   "source": [
    "Let's gather a little bit of information about the CPU we'll be using.  We can just ask the OS, but we need to ask on our servers in the cloud.  \n",
    "\n",
    "To do that we'll need to run a command line program remotely.  For that we'll use `cse142 job run`.  It runs a command line remotely (this is the same mechanism that cfiddle uses internally).  The `--force` option cancels any jobs you currently have running, and `--take NOTHING` keeps it from copying any local files to the server.  `lscpu` is the command to run."
   ]
  },
  {
   "cell_type": "code",
   "execution_count": null,
   "metadata": {
    "cse142L.is_response": true,
    "deletable": false,
    "editable": false
   },
   "outputs": [],
   "source": [
    "\n",
    "!cse142 job run --force --take NOTHING lscpu"
   ]
  },
  {
   "cell_type": "markdown",
   "metadata": {
    "editable": false
   },
   "source": [
    "As you can see it's a E-1246G CPU running at 3.5GHz.  The model number probably doesn't mean anything to you, but that's what [google is for](https://ark.intel.com/content/www/us/en/ark/products/134866/intel-xeon-e-2146g-processor-12m-cache-up-to-4-50-ghz.html)."
   ]
  },
  {
   "cell_type": "markdown",
   "metadata": {
    "cse142L.is_response": true,
    "cse142L.points": 2,
    "cse142L.question_type": "correctness",
    "deletable": false,
    "editable": true
   },
   "source": [
    "<div class=\"question correctness points-2\">\n",
    "<div class=\"question-text\">Based on the program output and link above, fill out the table below.  Some of the information is in the output above, some you'll need to google for. \"Technology node\" is roughly the size of the smallest transistors used in designing the chip.:</div>\n",
    "\n",
    "<div class=\"answer\">\n",
    "    \n",
    "| Parameter | Value |\n",
    "|-----------------------------|-------|\n",
    "|How many physical cores?     | [YOUR ANSWER HERE] \n",
    "|How many total threads?            | \n",
    "|Base processor frequency     |\n",
    "|Max turbo boost frequency    |\n",
    "|Process technology node (nm) | \n",
    "|L1 data cache size (d)               | \n",
    "|L1 instruction cache size (i)               | \n",
    "|L2 Cache size                | \n",
    "|L3 Cache size                | \n",
    "    \n",
    "</div>    \n",
    "</div>"
   ]
  },
  {
   "cell_type": "markdown",
   "metadata": {
    "cse142L.is_response": true,
    "cse142L.question_type": "optional",
    "deletable": false,
    "editable": true
   },
   "source": [
    "<div class=\"question optional\">\n",
    "<div class=\"question-text\">Here's some other interesting questions to look into about our processor:</div>\n",
    "\n",
    "<div class=\"answer\">\n",
    "\n",
    "1.  What's the Intel code name for our processor's microarchitecture?  When was it introduced?\n",
    "2.  What's the maximum clock rate at which processors with this microarchitecture can run?\n",
    "3.  What's the most cores available on a single die with this microarchitecture? \n",
    "3.  What major revision of Intel's microarchitecture is it a part of?  How old is this basic design?\n",
    "4.  What do all the things under `Flags` mean?\n",
    "    \n",
    "Here are some resources:\n",
    "    \n",
    "1. https://en.wikipedia.org/wiki/List_of_Intel_CPU_microarchitectures\n",
    "2. https://en.wikichip.org/wiki/WikiChip\n",
    "\n",
    "</div>    \n",
    "</div>    "
   ]
  },
  {
   "cell_type": "markdown",
   "metadata": {
    "editable": false
   },
   "source": [
    "## Instruction Count\n",
    "\n",
    "Let's see how changing the instruction count (`IC`) affects performance.  There are two ways we can increase instruction count for `baseline_int()`:\n",
    "\n",
    "1.  We can increase the number of times the outer loop runs with `reps`.\n",
    "2.  We can increase the size of `array` with the `size` parameter."
   ]
  },
  {
   "cell_type": "markdown",
   "metadata": {
    "editable": false
   },
   "source": [
    "### Running The Experiment Mutiple Times\n",
    "\n",
    "Let's run the `baseline_int()` with three values for `reps`: 25, 50, and 100.\n",
    "\n",
    "<div class=\"alert alert-block alert-info\">\n",
    "    \n",
    "**Answer the question _before_ you look at the results.**  The goal of this question (and many more to follow) is for you to predict the answer and then see if the results match your intuition.  Don't be discouraged if you frequently get the prediction wrong:  They are intentionally challenging and some of them have intentionally non-intuitive results.  Also, a major goal of the lab is to highlight behavior that seems non-intuitive so you can improve your intuition.\n",
    "</div>\n",
    "\n",
    "Kick off the experiment below and the answer this question:"
   ]
  },
  {
   "cell_type": "markdown",
   "metadata": {
    "cse142L.is_response": true,
    "cse142L.points": 1,
    "cse142L.question_type": "completeness",
    "deletable": false,
    "editable": true
   },
   "source": [
    "<div class=\"question completeness\">\n",
    "    \n",
    "<div class=\"question-text\"> \n",
    "    \n",
    "In a moment, you'll see four graphs that show how each term of the performance equation changes as we increase `reps`.  \n",
    "    \n",
    "What _shape_ do you think each curve will have (linear? curved?) and what _direction_ will it go (increasing? Decreasing? flat?)?  For each term, predict the ratio between it's value at 100 and 25 (i.e., `value_at_100/value_at_25`).\n",
    "    \n",
    "</div>\n",
    "    \n",
    "<div class=\"answer\">\n",
    "\n",
    "|                        | IC      | CPI | CT | ET |\n",
    "|------------------------|---------|-----|----|----|\n",
    "|Shape                   | [PUT YOUR ANSWERS IN THE TABLE]       |     |    |    | \n",
    "|Direction               |         |     |    |    |\n",
    "|100 vs 25 ratio         |         |     |    |    |    \n",
    "\n",
    "</div>\n",
    "</div>"
   ]
  },
  {
   "cell_type": "code",
   "execution_count": null,
   "metadata": {
    "cse142L.is_response": true,
    "deletable": false,
    "editable": false
   },
   "outputs": [],
   "source": [
    "\n",
    "#This takes a while... (like a minute)\n",
    "d = run(microbench, function=\"baseline_int\", \n",
    "        arguments=arg_map(size=1024*1024, reps=[25,50,100]), \n",
    "        run_options=arg_map(MHz=3500), \n",
    "        perf_counters=[\"PERF_COUNT_HW_INSTRUCTIONS\", \"PERF_COUNT_HW_CPU_CYCLES\"])    \n",
    "results = PE_calc(d.as_df())\n",
    "display(results)"
   ]
  },
  {
   "cell_type": "code",
   "execution_count": null,
   "metadata": {
    "cse142L.is_response": true,
    "deletable": false,
    "editable": false
   },
   "outputs": [],
   "source": [
    "\n",
    "plotPE(df=results, lines=True, what=[ ('reps', \"IC\"), (\"reps\", \"CPI\"), (\"reps\", \"CT\"), (\"reps\", \"ET\") ], columns=4)\n"
   ]
  },
  {
   "cell_type": "markdown",
   "metadata": {
    "cse142L.is_response": true,
    "cse142L.points": 4,
    "cse142L.question_type": "correctness",
    "deletable": false,
    "editable": true
   },
   "source": [
    "<div class=\"question correctness points-4\">\n",
    "    \n",
    "<div class=\"question-text\">\n",
    "    \n",
    "Use the \"scratch pad\" (little triangle thing in the lower-right of this window) or a calculator to compute the actual ratio of the values at `reps = 100` and `reps = 25` and enter them in the table below.  How does these results differ from what you expected? (We won't check that you actually used the scratch pad, but you should.  It's a very useful tool.)  \n",
    "    \n",
    "</div>\n",
    "   \n",
    "<div class=\"answer\">\n",
    "\n",
    "|                     | IC      | CPI | CT | ET |\n",
    "|---------------------|---------|-----|----|----|\n",
    "|100 vs 25 reps ratio | <PUT YOUR ANSWER IN THE TABLE> \n",
    "|Differences compared to your expectations (if any):| | | | |\n",
    "\n",
    "\n",
    "\n",
    "</div>\n",
    "</div>\n"
   ]
  },
  {
   "cell_type": "markdown",
   "metadata": {
    "editable": false
   },
   "source": [
    "### Increasing the Size of `array`\n",
    "\n",
    "Instead of increasing `reps` we can increase the size of `array` so we'll run the same computation over more data.\n",
    "We will vary the size over a very large range: 10,000 to 20,480,000.\n",
    "\n",
    "Kick off the cell below to collect the data.  While it's running answer this question:"
   ]
  },
  {
   "cell_type": "markdown",
   "metadata": {
    "cse142L.is_response": true,
    "cse142L.points": 1,
    "cse142L.question_type": "completeness",
    "deletable": false,
    "editable": true
   },
   "source": [
    "<div class=\"question completeness\">\n",
    "\n",
    "<div class=\"question-text\">\n",
    "\n",
    "This time, the four graphs will show each term of the performance equation changes as we increase `size`.  What _shape_ do you think each curve will have (linear? curved?) and what _direction_ will it go (increasing? Decreasing? flat?)?  For each term, predict the ratio between it's value at 5,120,000 and its value at 320,000.\n",
    "\n",
    "</div>\n",
    "    \n",
    "<div class=\"answer\">\n",
    "\n",
    "|                        | IC      | CPI | CT | ET |\n",
    "|------------------------|---------|-----|----|----|\n",
    "|Shape                   |         |     |    |    | \n",
    "|Direction               |         |     |    |    |\n",
    "|5,120,000 vs 320,000 ratio |         |     |    |    |    \n",
    "   \n",
    "</div>\n",
    "</div>"
   ]
  },
  {
   "cell_type": "code",
   "execution_count": null,
   "metadata": {
    "editable": false
   },
   "outputs": [],
   "source": [
    "#This takes a while...\n",
    "d = run(microbench, function=\"baseline_int\", \n",
    "        # this call to exp_range generates a sequence, a, where a_0 = 10000, a_n = a_n-1 * 2,... and stops when a_n > 20480000\n",
    "        arguments=arg_map(size=exp_range(10000, 20480000, 2), reps=20), \n",
    "        run_options=arg_map(MHz=3500), \n",
    "        perf_counters=[\"PERF_COUNT_HW_INSTRUCTIONS\", \"PERF_COUNT_HW_CPU_CYCLES\"])\n"
   ]
  },
  {
   "cell_type": "code",
   "execution_count": null,
   "metadata": {
    "cse142L.is_response": true,
    "deletable": false,
    "editable": false
   },
   "outputs": [],
   "source": [
    "\n",
    "df = PE_calc(d.as_df())\n",
    "display(df)\n",
    "plotPE(df=df, lines=True, what=[ ('size', \"IC\"), (\"size\", \"CPI\"), (\"size\", \"CT\"), (\"size\", \"ET\") ], columns=4)\n"
   ]
  },
  {
   "cell_type": "markdown",
   "metadata": {
    "cse142L.is_response": true,
    "cse142L.points": 4,
    "cse142L.question_type": "correctness",
    "deletable": false,
    "editable": true
   },
   "source": [
    "<div class=\"question correctness points-4\">\n",
    "\n",
    "<div class=\"question-text\">\n",
    "\n",
    "Compute the actual ratio of the values at 5,120,000 and 320,000.  How does these results differ from what you expected?  What is the speedup for a an array of 5,120,000 vs an array of 320,000? \n",
    "\n",
    "</div>\n",
    "    \n",
    "<div class=\"answer\">\n",
    "\n",
    "|                     | IC      | CPI | CT | ET |\n",
    "|---------------------|---------|-----|----|----|\n",
    "|5,120,000 vs 320,000 ratio |         |     |    |    |    \n",
    "|Differences compared to your expectations| ||||\n",
    "\n",
    "**Speedup for 5,120,000 vs 320,000-element arrays:**\n",
    "    \n",
    "\n",
    "</div>\n",
    "    \n",
    "</div>"
   ]
  },
  {
   "attachments": {
    "image.png": {
     "image/png": "[encoded data removed]"
    }
   },
   "cell_type": "markdown",
   "metadata": {
    "editable": false
   },
   "source": [
    "<div class=\"alert alert-block alert-success\">\n",
    "    \n",
    "**Interesting Question:**  Why does increasing the size of `array` change CPI?  And why does this change occur so quickly and at only over a certain range of sizes?\n",
    "    \n",
    "    \n",
    "![image.png](attachment:image.png)\n",
    "</div>"
   ]
  },
  {
   "cell_type": "markdown",
   "metadata": {
    "editable": false
   },
   "source": [
    "## Cycle Time\n",
    "\n",
    "Next, we'll take a look at how clock rate affects performance.  Before we do, though, let's see what our options are for clock rate on our machine.  We'll `cpupower` for this, a common Linux utility.  Again, we'll run it with `cse142 job run` to run it in the cloud:"
   ]
  },
  {
   "cell_type": "code",
   "execution_count": null,
   "metadata": {
    "editable": false
   },
   "outputs": [],
   "source": [
    "!cse142 job run --force 'cpupower frequency-info -n'"
   ]
  },
  {
   "cell_type": "markdown",
   "metadata": {
    "editable": false
   },
   "source": [
    "As you can see, the processors in our target systems can run between 800MHz and 3501MHz at mostly 200MHz increments.\n",
    "\n",
    "Let's see how that affects things by plotting execution time as a function of clock speed (we are skipping 3501MHz for the moment.  We'll come back to it.).  The readings for the current clock speed may vary from run to run.  It just ends up at whatever the last experiment left it at.\n",
    "\n",
    "Kick off the cell below to collect the data.  While it's running answer this question:"
   ]
  },
  {
   "cell_type": "markdown",
   "metadata": {
    "cse142L.is_response": true,
    "cse142L.points": 1,
    "cse142L.question_type": "completeness",
    "deletable": false,
    "editable": true
   },
   "source": [
    "<div class=\"question completeness\">\n",
    "    \n",
    "<div class=\"question-text\">\n",
    "\n",
    "We are going to plot four graphs that show how each term of the performance equation changes as we increase clock rate.  What _shape_ do you think each curve will have (linear? curved?) and what _direction_ will it go (increasing? Decreasing? flat?)?  For each term, predict the ratio between its value at 3500MHz and its value at 1800Mhz.\n",
    "\n",
    "</div>\n",
    "    \n",
    "<div class=\"answer\">\n",
    "\n",
    "|                     | IC      | CPI | CT | ET |\n",
    "|---------------------|---------|-----|----|----|\n",
    "|Shape                |         |     |    |    | \n",
    "|Direction            |         |     |    |    |\n",
    "|3500MHz/1800Mhz ratio |         |     |    |    |    \n",
    "\n",
    "\n",
    "    \n",
    "</div>\n",
    "</div>"
   ]
  },
  {
   "cell_type": "code",
   "execution_count": null,
   "metadata": {
    "editable": false
   },
   "outputs": [],
   "source": [
    "#This takes a while...\n",
    "ct_data = run(microbench, function=\"baseline_int\", \n",
    "            arguments=arg_map(size=1024*1024*32, reps=1),\n",
    "            run_options=arg_map(MHz=[800, 1000, 1200, 1400, 1600, 1800, 2000, 2100, 2300, 2500, 2700, 2900, 3100, 3300, 3500]), \n",
    "            perf_counters=[\"PERF_COUNT_HW_INSTRUCTIONS\", \"PERF_COUNT_HW_CPU_CYCLES\"])\n"
   ]
  },
  {
   "cell_type": "code",
   "execution_count": null,
   "metadata": {
    "cse142L.is_response": true,
    "deletable": false,
    "editable": false
   },
   "outputs": [],
   "source": [
    "\n",
    "display(ct_data.as_df())\n",
    "ct_df = PE_calc(ct_data.as_df())\n",
    "display(ct_df)\n",
    "plotPE(df=ct_df, lines=True, what=[ ('requestedMHz', \"IC\"), (\"requestedMHz\", \"CPI\"), (\"requestedMHz\", \"CT\"), (\"requestedMHz\", \"ET\") ], columns=4)"
   ]
  },
  {
   "cell_type": "markdown",
   "metadata": {
    "cse142L.is_response": true,
    "cse142L.points": 4,
    "cse142L.question_type": "correctness",
    "deletable": false,
    "editable": true
   },
   "source": [
    "<div class=\"question correctness points-4\">\n",
    "    \n",
    "<div class=\"question-text\">\n",
    "\n",
    "Compute the actual ratio of the values at 3500MHz and 1800MHZ.  How do these results differ from what you expected?  How much speedup does double doubling the clock rate provide?\n",
    "</div>\n",
    "    \n",
    "<div class=\"answer\">\n",
    "\n",
    "|                     | IC      | CPI | CT | ET |\n",
    "|---------------------|---------|-----|----|----|\n",
    "|3500MHz/1800Mhz ratio |         |     |    |    |    \n",
    "|Differences compared to your expectations:| | | | |\n",
    "\n",
    "\n",
    "\n",
    "**How much speedup does doubling the clock rate from 1800MHz to 3500MHz provide? (show your work):**\n",
    "    \n",
    "\n",
    "    \n",
    "</div>\n",
    "    \n",
    "</div>"
   ]
  },
  {
   "attachments": {
    "image.png": {
     "image/png": "[encoded data removed]"
    }
   },
   "cell_type": "markdown",
   "metadata": {
    "editable": false
   },
   "source": [
    "<div class=\"alert alert-block alert-success\">\n",
    "    \n",
    "**Interesting question:** How can clock rate affect `CPI`?\n",
    "    \n",
    "![image.png](attachment:image.png)\n",
    "</div>"
   ]
  },
  {
   "cell_type": "markdown",
   "metadata": {
    "editable": false
   },
   "source": [
    "The data above had `size = 1024*1024*32` and `reps = 1`.  Let's call that \"1-big\".  Note that 1-big, `IC` did not change significantly with clock speed (although, why did it change at all?).\n",
    "\n",
    "Consider another configuration called \"32-small\" with `size = 1024*1024` and `reps = 32`.  Kick off the cell below and answer this question:"
   ]
  },
  {
   "cell_type": "markdown",
   "metadata": {
    "cse142L.is_response": true,
    "cse142L.points": 1,
    "cse142L.question_type": "completeness",
    "deletable": false,
    "editable": true
   },
   "source": [
    "<div class=\"question completeness\">\n",
    "    \n",
    "<div class=\"question-text\">\n",
    "\n",
    "How will 1-big's behavior compare to 32-small's?  Fill out the table with your predictions:\n",
    "    \n",
    "</div>\n",
    "    \n",
    "<div class=\"answer\">\n",
    "\n",
    "|   Expression        | Value      | \n",
    "|---------------------|---------|\n",
    "|1-big IC / 32-small IC (Your estimate)|     |\n",
    "|1-big  ET @ 3500MHz/ 1-big ET @ 800Mhz (you calculated this in the previous problem)|     |\n",
    "|32-big ET @ 3500MHz/32-big ET @ 800Mhz (your estimate)|     |\n",
    "     \n",
    "</div>\n",
    "    \n",
    "</div>"
   ]
  },
  {
   "cell_type": "code",
   "execution_count": null,
   "metadata": {
    "editable": false
   },
   "outputs": [],
   "source": [
    "#This takes a while...\n",
    "ct_data2 = run(microbench, function=\"baseline_int\", \n",
    "            arguments=arg_map(size=1024*1024, reps=32),\n",
    "            run_options=arg_map(MHz=[800, 3500]), \n",
    "            perf_counters=[\"PERF_COUNT_HW_INSTRUCTIONS\", \"PERF_COUNT_HW_CPU_CYCLES\"])\n"
   ]
  },
  {
   "cell_type": "code",
   "execution_count": null,
   "metadata": {
    "cse142L.is_response": true,
    "deletable": false,
    "editable": false
   },
   "outputs": [],
   "source": [
    "\n",
    "display(ct_data2.as_df())\n",
    "ct2_df = PE_calc(ct_data2.as_df())\n",
    "display(ct2_df)"
   ]
  },
  {
   "cell_type": "markdown",
   "metadata": {
    "cse142L.is_response": true,
    "cse142L.points": 1,
    "cse142L.question_type": "correctness",
    "deletable": false,
    "editable": true
   },
   "source": [
    "<div class=\"question correctness points-1\">\n",
    "    \n",
    "<div class=\"question-text\">\n",
    "\n",
    "Fill in the table to see how your predictions did.\n",
    "</div>\n",
    "    \n",
    "<div class=\"answer\">\n",
    "\n",
    "|   Expression        | Actual values   |  \n",
    "|---------------------|---------|\n",
    "|1-big IC / 32-small IC|     |\n",
    "|32-big ET @ 3500MHz/32-big ET @ 800Mhz|     |\n",
    " \n",
    "\n",
    "</div>\n",
    "    \n",
    "</div>"
   ]
  },
  {
   "attachments": {
    "image-2.png": {
     "image/png": "[encoded data removed]"
    }
   },
   "cell_type": "markdown",
   "metadata": {
    "editable": false
   },
   "source": [
    "<div class=\"alert alert-block alert-success\">\n",
    "    \n",
    "**Interesting question:** Why doesn't clock rate always affect `CPI`?\"\n",
    "    \n",
    "![image-2.png](attachment:image-2.png)\n",
    "</div>"
   ]
  },
  {
   "cell_type": "markdown",
   "metadata": {
    "editable": false
   },
   "source": [
    "## Cycles Per Instruction\n",
    "\n",
    "Unlike `IC` and `CT` we can't set `CPI` directly, but we can adjust the code and see how `CPI` changes.  We'll do this in two ways.  First, we'll change the data type we are operating on. Then, we'll change the compiler options.  Finally, we'll restructure the code.\n",
    "\n",
    "### Floating Point vs Integer Operations\n",
    "\n",
    "`baseline_double()` (on the left) that is identical to `baseline_int()` (on the right) but uses 64-bit floating point values (of type `double`)  instead of 64-bit integers (`uint64_t`):"
   ]
  },
  {
   "cell_type": "code",
   "execution_count": null,
   "metadata": {
    "editable": false,
    "init_cell": true
   },
   "outputs": [],
   "source": [
    "compare([microbench[0].source(show=\"baseline_double\"), microbench[0].source(show=\"baseline_int\")])\n",
    "     "
   ]
  },
  {
   "cell_type": "markdown",
   "metadata": {
    "editable": false
   },
   "source": [
    "Kick off the the cell below to run both functions, and answer this question:"
   ]
  },
  {
   "cell_type": "markdown",
   "metadata": {
    "cse142L.is_response": true,
    "cse142L.points": 1,
    "cse142L.question_type": "completeness",
    "deletable": false,
    "editable": true
   },
   "source": [
    "<div class=\"question completeness\">\n",
    "    \n",
    "<div class=\"question-text\"> \n",
    "    \n",
    "How do you think each term in the performance equation will change for `baseline_double()` compared to `baseline_int()`?\n",
    "    \n",
    "</div>\n",
    "    \n",
    "<div class=\"answer\">\n",
    "\n",
    "**IC:**\n",
    "    \n",
    "**CPI:**\n",
    "    \n",
    "**CT:**\n",
    "    \n",
    "**ET:**\n",
    "\n",
    "</div>\n",
    "</div>"
   ]
  },
  {
   "cell_type": "code",
   "execution_count": null,
   "metadata": {
    "editable": false
   },
   "outputs": [],
   "source": [
    "cpi_data = run(microbench, function=[\"baseline_int\",\"baseline_double\", \"baseline_float\", 'baseline_char'], \n",
    "              arguments=arg_map(size=1024*1024, reps=25),\n",
    "              run_options=arg_map(MHz=3500),\n",
    "              perf_counters=[\"PERF_COUNT_HW_INSTRUCTIONS\", \"PERF_COUNT_HW_CPU_CYCLES\"])\n"
   ]
  },
  {
   "cell_type": "code",
   "execution_count": null,
   "metadata": {
    "cse142L.is_response": true,
    "deletable": false,
    "editable": false
   },
   "outputs": [],
   "source": [
    "\n",
    "cpi_df = PE_calc(cpi_data.as_df())\n",
    "display(cpi_df)\n",
    "plotPEBar(df=cpi_df, what=[ ('function', \"IC\"), (\"function\", \"CPI\"), (\"function\", \"CT\"), (\"function\", \"ET\") ], columns=4)\n"
   ]
  },
  {
   "cell_type": "markdown",
   "metadata": {
    "cse142L.is_response": true,
    "cse142L.points": 1,
    "cse142L.question_type": "completeness",
    "deletable": false,
    "editable": true
   },
   "source": [
    "<div class=\"question completeness\">\n",
    "\n",
    "<div class=\"question-text\"> \n",
    "    \n",
    "How did the results for each term in the PE differ from your predictions (if they did)?\n",
    "\n",
    "</div>\n",
    "    \n",
    "<div class=\"answer\">\n",
    "\n",
    "**IC:**\n",
    "\n",
    "**CPI:**\n",
    "\n",
    "**CT:**\n",
    "\n",
    "**ET:**\n",
    "    \n",
    "</div>\n",
    "    \n",
    "\n",
    "</div>"
   ]
  },
  {
   "cell_type": "markdown",
   "metadata": {
    "cse142L.is_response": true,
    "cse142L.question_type": "optional",
    "deletable": false,
    "editable": true
   },
   "source": [
    "<div class=\"question optional\">\n",
    "\n",
    "<div class=\"question-text\"> \n",
    "    \n",
    "In `microbench.cpp` there are also `baseline_char()` and `baseline_float()`. Add those functions to the experiment above.  What do you find?\n",
    "    \n",
    "</div>\n",
    "    \n",
    "<div class=\"answer\">\n",
    "\n",
    "</div>\n",
    "    \n",
    "</div>"
   ]
  },
  {
   "attachments": {
    "image.png": {
     "image/png": "[encoded data removed]"
    }
   },
   "cell_type": "markdown",
   "metadata": {
    "editable": false
   },
   "source": [
    "<div class=\"alert alert-block alert-success\">\n",
    "\n",
    "**Interesting question:** How and why do the datatypes we use change `IC` and `CPI`?\n",
    "    \n",
    "![image.png](attachment:image.png)\n",
    "    \n",
    "_Does anyone else think this version of the \"thinking\" emoji looks like an alien?_\n",
    "</div>"
   ]
  },
  {
   "cell_type": "markdown",
   "metadata": {
    "editable": false
   },
   "source": [
    "### The Compiler's Effect\n",
    "\n",
    "`microbench.cpp` contains the following function:"
   ]
  },
  {
   "cell_type": "code",
   "execution_count": null,
   "metadata": {
    "editable": false,
    "init_cell": true
   },
   "outputs": [],
   "source": [
    "display(microbench[0].source(\"baseline_int_O4\"))"
   ]
  },
  {
   "cell_type": "markdown",
   "metadata": {
    "editable": false
   },
   "source": [
    "It's identical to `baseline_int()` except that for the `__attribute__ ((optimize(4)))` which is a little bit of `gcc` magic to optimize this functions as much as it can (it's the equivalent of passing `-O4` on the command line but just for this function).\n",
    "\n",
    "Let's see how optimizations affect performance.  Kick off the experiment in the cell below and answer this question while it runs:"
   ]
  },
  {
   "cell_type": "markdown",
   "metadata": {
    "cse142L.is_response": true,
    "cse142L.points": 1,
    "cse142L.question_type": "completeness",
    "deletable": false,
    "editable": true
   },
   "source": [
    "<div class=\"question completeness\">\n",
    "    \n",
    "<div class=\"question-text\">\n",
    "    \n",
    "How do you think each term in the performance equation will change for `baseline_int()` compared to `baseline_int_O4()`?\n",
    "    \n",
    "</div>\n",
    "    \n",
    "<div class=\"answer\">\n",
    "\n",
    "**IC:**\n",
    "    \n",
    "**CPI:**\n",
    "    \n",
    "**CT:**\n",
    "    \n",
    "**ET:**\n",
    "    \n",
    "\n",
    "</div>\n",
    "</div>"
   ]
  },
  {
   "cell_type": "code",
   "execution_count": null,
   "metadata": {
    "editable": false
   },
   "outputs": [],
   "source": [
    "cpi_opt_data = run(microbench, function=[\"baseline_int\",\"baseline_int_O4\"], \n",
    "              arguments=arg_map(size=8388608, reps=2),\n",
    "              run_options=arg_map(MHz=3500),\n",
    "              perf_counters=[\"PERF_COUNT_HW_INSTRUCTIONS\", \"PERF_COUNT_HW_CPU_CYCLES\"])\n"
   ]
  },
  {
   "cell_type": "code",
   "execution_count": null,
   "metadata": {
    "cse142L.is_response": true,
    "deletable": false,
    "editable": false
   },
   "outputs": [],
   "source": [
    "\n",
    "cpi_opt_df = PE_calc(cpi_opt_data.as_df())\n",
    "display(cpi_opt_df)\n",
    "plotPEBar(df=cpi_opt_df, what=[ ('function', \"IC\"), (\"function\", \"CPI\"), (\"function\", \"CT\"), (\"function\", \"ET\") ], columns=4)"
   ]
  },
  {
   "cell_type": "markdown",
   "metadata": {
    "cse142L.is_response": true,
    "cse142L.points": 1,
    "cse142L.question_type": "completeness",
    "deletable": false,
    "editable": true
   },
   "source": [
    "<div class=\"question completeness\">\n",
    "\n",
    "<div class=\"question-text\">\n",
    "    \n",
    "Based on the data above, describe in words what affect the optimizations had on the code and the value of each term of the PE. \n",
    "    \n",
    "</div>\n",
    "    \n",
    "<div class=\"answer\">\n",
    "        \n",
    "**IC:**\n",
    "    \n",
    "**CPI:**\n",
    "    \n",
    "**CT:**\n",
    "\n",
    "**ET:**\n",
    "   \n",
    "    \n",
    "</div>\n",
    "    \n",
    "</div>"
   ]
  },
  {
   "cell_type": "markdown",
   "metadata": {
    "editable": false
   },
   "source": [
    "### Code Structure\n",
    "\n",
    "These two functions increment all the elements in an array by `1.0`, but they do it slightly different ways."
   ]
  },
  {
   "cell_type": "code",
   "execution_count": null,
   "metadata": {
    "editable": false,
    "init_cell": true
   },
   "outputs": [],
   "source": [
    "compare([microbench[0].source(show=\"matrix_row_major\"),\n",
    "         microbench[0].source(show=\"matrix_column_major\")])"
   ]
  },
  {
   "cell_type": "markdown",
   "metadata": {
    "editable": false
   },
   "source": [
    "We'll run both versions and compare their performance.  Kick off the  experiment below and answer this question:"
   ]
  },
  {
   "cell_type": "markdown",
   "metadata": {
    "cse142L.is_response": true,
    "cse142L.points": 1,
    "cse142L.question_type": "completeness",
    "deletable": false,
    "editable": true
   },
   "source": [
    "<div class=\"question completeness\">\n",
    "\n",
    "<div class=\"question-text\">\n",
    "    \n",
    "If `size` is equal to 8,388,608 how many times will \"This Line\" execute in each function?  Do you think one will be faster than the other?  Why?\n",
    "    \n",
    "</div>\n",
    "    \n",
    "<div class=\"answer\">\n",
    "        \n",
    "**How many times does `This Line` execute in `matrix_row_major()`:**\n",
    "\n",
    "\n",
    "    \n",
    "**How many times does `This Line` execute in `matrix_column_major()`:**\n",
    "\n",
    "\n",
    "    \n",
    "**Is there any difference in the \"Big-O\" running time of these two functions?**\n",
    "\n",
    "\n",
    "    \n",
    "**Do you think one will be faster than the other?  Why?**\n",
    "\n",
    "\n",
    "\n",
    "</div>\n",
    "    \n",
    "</div>"
   ]
  },
  {
   "cell_type": "code",
   "execution_count": null,
   "metadata": {
    "editable": false
   },
   "outputs": [],
   "source": [
    "cpi_order_data = run(microbench, function=[\"matrix_row_major\", \"matrix_column_major\"], \n",
    "                     arguments=arg_map(size=32*1024*1024, reps=1),\n",
    "                     run_options=arg_map(MHz=3500),\n",
    "                     perf_counters=[\"PERF_COUNT_HW_INSTRUCTIONS\", \"PERF_COUNT_HW_CPU_CYCLES\"])"
   ]
  },
  {
   "cell_type": "code",
   "execution_count": null,
   "metadata": {
    "editable": false
   },
   "outputs": [],
   "source": [
    "#data_cell\n",
    "cpi_order_df = PE_calc(cpi_order_data.as_df())\n",
    "display(cpi_order_df)\n",
    "plotPEBar(df=cpi_order_df, what=[ ('function', \"IC\"), (\"function\", \"CPI\"), (\"function\", \"CT\"), (\"function\", \"ET\") ], columns=4)"
   ]
  },
  {
   "cell_type": "markdown",
   "metadata": {
    "cse142L.is_response": true,
    "cse142L.points": 1,
    "cse142L.question_type": "completeness",
    "deletable": false,
    "editable": true
   },
   "source": [
    "<div class=\"question completeness\">\n",
    "\n",
    "    \n",
    "<div class=\"question-text\">\n",
    "\n",
    "Calculate the speedup of `matrix_row_major` over `matrix_column_major`.  Why is this result surprising?\n",
    "\n",
    "</div>\n",
    "    \n",
    "<div class=\"answer\">\n",
    "        \n",
    "**Speedup:**\n",
    "    \n",
    "\n",
    "    \n",
    "**Why is this surprising?:**\n",
    "\n",
    "\n",
    "</div>\n",
    "    \n",
    "</div>"
   ]
  },
  {
   "attachments": {
    "image.png": {
     "image/png": "[encoded data removed]"
    }
   },
   "cell_type": "markdown",
   "metadata": {
    "editable": false
   },
   "source": [
    "<div class=\"alert alert-block alert-success\">\n",
    "\n",
    "**Interesting Question:** Why does the order in which the program performs calculations affect `CPI`?\n",
    "    \n",
    "![image.png](attachment:image.png)\n",
    "</div>"
   ]
  },
  {
   "cell_type": "markdown",
   "metadata": {
    "editable": false
   },
   "source": [
    "# Amdahl's Law"
   ]
  },
  {
   "cell_type": "markdown",
   "metadata": {
    "editable": false
   },
   "source": [
    "Recall from CSE142 that Amdahl's Law limits the speed up an optimization can provide.  It's given as \n",
    "\n",
    "$$S_{tot} = \\frac{1}{\\left(\\frac{x}{S}\\right) + (1-x)}$$\n",
    "\n",
    "Where $S$ is the speedup provided by the optimization, $x$ is the fraction of execution time affected by the optimization, and $S_{tot}$ is total speedup.  There is also a more general form of Amdahl's law that covers multiple optimizations operating on two _disjoint_ portions of a program:\n",
    "\n",
    "$$S_{tot} = \\frac{1}{\\left(\\frac{x_1}{S_1}\\right) + \\left(\\frac{x_2}{S_2}\\right) + (1-x_1-x_2)}$$\n",
    "\n",
    "It can be generalized to handle any number of optimizations operating on disjoint portions of the program.\n",
    "\n",
    "We are going to explore both of these using functions similar to those we studied above.  The code is in `amdahl.cpp`.  Take a moment to compare them to the code we saw earlier in `microbench.cpp` and understand what's different."
   ]
  },
  {
   "cell_type": "code",
   "execution_count": null,
   "metadata": {
    "editable": false,
    "init_cell": true
   },
   "outputs": [],
   "source": [
    "amdahl = build(\"amdahl.cpp\")\n",
    "amdahl[0].source()"
   ]
  },
  {
   "cell_type": "markdown",
   "metadata": {
    "editable": false
   },
   "source": [
    "The cell below contains the source for a function that calls several of these functions in sequence and has them operate on the same array of data.\n",
    "\n",
    "`start_measurement()`, `restart_measurement()`, and `end_measurement()` break up the function into sections that we'll measure independently.  The argument to `start_measurement()` and `restart_measurement()` are a \"tag\" to label those phases in the output.\n",
    "\n",
    "The cell will compile the code and then run it."
   ]
  },
  {
   "cell_type": "code",
   "execution_count": null,
   "metadata": {
    "editable": false
   },
   "outputs": [],
   "source": [
    "amdahl = build(code(r\"\"\"\n",
    "#include\"cfiddle.hpp\"\n",
    "extern \"C\" void init(uint64_t * array, uint64_t size);\n",
    "extern \"C\" void baseline_int(uint64_t * array, uint64_t size);\n",
    "extern \"C\" void baseline_int_O4 (uint64_t * array, uint64_t size);\n",
    "extern \"C\" void matrix_column_major(uint64_t * array, uint64_t size);\n",
    "extern \"C\" void matrix_row_major(uint64_t * array, uint64_t size);\n",
    "\n",
    "extern \"C\" uint64_t *__attribute__ ((optimize(0))) everything(unsigned long int size) {\n",
    "    uint64_t * array = new uint64_t[size];\n",
    "    \n",
    "    start_measurement(\"init phase\");\n",
    "    \n",
    "    init(array, size);\n",
    "\n",
    "    restart_measurement(\"matrix phase\");\n",
    "\n",
    "    matrix_column_major(array, size);\n",
    "\n",
    "    restart_measurement(\"baseline phase\");\n",
    "\n",
    "    baseline_int(array,size);\n",
    "\n",
    "    end_measurement();\n",
    "\n",
    "    return array;\n",
    "}\n",
    "\"\"\"), build_parameters=arg_map(MORE_SRC=\"amdahl.cpp\"))\n",
    "\n",
    "amdahl_data = run(amdahl, function=\"everything\", \n",
    "              arguments=arg_map(size=32*1024*1024),\n",
    "              run_options=arg_map(MHz=3500),\n",
    "              perf_counters=[\"PERF_COUNT_HW_INSTRUCTIONS\", \"PERF_COUNT_HW_CPU_CYCLES\"])\n"
   ]
  },
  {
   "cell_type": "code",
   "execution_count": null,
   "metadata": {
    "cse142L.is_response": true,
    "deletable": false,
    "editable": false
   },
   "outputs": [],
   "source": [
    "\n",
    "amdahl_df = PE_calc(amdahl_data.as_df())\n",
    "display(amdahl_df)"
   ]
  },
  {
   "attachments": {
    "image-2.png": {
     "image/png": "[encoded data removed]"
    }
   },
   "cell_type": "markdown",
   "metadata": {
    "editable": false
   },
   "source": [
    "<div class=\"alert alert-block alert-danger\">\n",
    "\n",
    "**Strange Data Above**:  You might notice that the values above for `realMHz` don't make much sense (its seems to grow over time and to an absurd value).  This is due to a bug.  I've fixed it and the change will roll out with the next lab. \n",
    "    \n",
    "It shouldn't make any difference for this lab, since you're just interested in performance.\n",
    "\n",
    "![image-2.png](attachment:image-2.png)\n",
    "    \n",
    "</div>\n",
    "\n",
    "Imagine that you are a manager and your team is tasked with the improving the performance of `everything()`.  Members of your team propose two different approaches:\n",
    "\n",
    "1.  Option 1: Replacing `baseline_int()` with `baseline_int_O4()`\n",
    "2.  Option 2: Replacing `matrix_column_major()` with `matrix_row_major()`.\n",
    "\n",
    "To answer the question below, it'll be helpful to have some of the data from our earlier experiments:"
   ]
  },
  {
   "cell_type": "code",
   "execution_count": null,
   "metadata": {
    "cse142L.is_response": true,
    "deletable": false,
    "editable": false
   },
   "outputs": [],
   "source": [
    "\n",
    "display(cpi_order_df)\n",
    "display(cpi_opt_df)"
   ]
  },
  {
   "cell_type": "markdown",
   "metadata": {
    "cse142L.is_response": true,
    "cse142L.points": 1,
    "cse142L.question_type": "completeness",
    "deletable": false,
    "editable": true
   },
   "source": [
    "<div class=\"question completeness\">\n",
    "\n",
    "<div class=\"question-text\">\n",
    "    \n",
    "Based on the data you've collected, calculate the two speedups below and then decide which of the two options will give the best overall speedup for `everything()` (Show your work).\n",
    "    \n",
    "</div>\n",
    "    \n",
    "<div class=\"answer\">\n",
    "\n",
    "**Speedup of `baseline_int_O4()` vs `baseline_int()`:**\n",
    "\n",
    "**Speedup of `matrix_row_major()` vs `matrix_column_major()`:**\n",
    "    \n",
    "**Which of the two options will give the best speedup?**\n",
    "\n",
    "\n",
    "    \n",
    "</div>\n",
    "</div>"
   ]
  },
  {
   "cell_type": "markdown",
   "metadata": {
    "cse142L.is_response": true,
    "cse142L.points": 4,
    "cse142L.question_type": "correctness",
    "deletable": false,
    "editable": true
   },
   "source": [
    "<div class=\"question correctness points-4\">\n",
    "\n",
    "<div class=\"question-text\">\n",
    "\n",
    "Based on the data you collected earlier in this lab for the performance of `baseline_int()`, `baseline_int_O4()`, `matrix_column_major()`, and `matrix_row_major()`, use Amdahl's law to predict the speedup of each approach described below.  (Show your work, including the values of `x` and `S` and how you computed them.)\n",
    "\n",
    "</div>\n",
    "\n",
    "<div class=\"answer\">\n",
    "\n",
    "**Option 1 (Replacing `baseline_int()` with `baseline_int_O4()`) Speedup:**\n",
    "\n",
    "x = \n",
    "    \n",
    "S = (Hint: you computed this in the previous question) \n",
    "\n",
    "S_tot = \n",
    "\n",
    "\n",
    "\n",
    "\n",
    "\n",
    "\n",
    "\n",
    "\n",
    "\n",
    "\n",
    "\n",
    "    \n",
    "**Option 2 (Replacing `matrix_column_major()` with `matrix_row_major()`) Speedup:**\n",
    "\n",
    "\n",
    "x = \n",
    "    \n",
    "S = (Hint: you computed this in the previous question)\n",
    "\n",
    "S_tot = \n",
    "\n",
    "\n",
    "\n",
    "\n",
    "\n",
    "\n",
    "\n",
    "\n",
    "**Option 3 (Replace both) Speedup:**\n",
    "    \n",
    "This one is more challenging.  Show your work. \n",
    "    \n",
    "\n",
    "\n",
    "\n",
    "\n",
    "</div>\n",
    "</div>"
   ]
  },
  {
   "cell_type": "markdown",
   "metadata": {
    "editable": false
   },
   "source": [
    "Modify the code for `everything()` above to implement all three versions (Note: it might be wise to save a copy of the original code).  Store the results for each experiments in different variables (e.g., `opt_baseline` instead of `amdahl_data`) and use the cell below to print them out `display()` out.  Make it clear either through comments in the code below or the data itself which version is which:"
   ]
  },
  {
   "cell_type": "code",
   "execution_count": null,
   "metadata": {
    "cse142L.is_response": true,
    "deletable": false,
    "editable": false
   },
   "outputs": [],
   "source": [
    "\n",
    "# display(your_data)"
   ]
  },
  {
   "cell_type": "markdown",
   "metadata": {
    "cse142L.is_response": true,
    "cse142L.points": 2,
    "cse142L.question_type": "correctness",
    "deletable": false,
    "editable": true
   },
   "source": [
    "<div class=\"question correctness points-2\">\n",
    " \n",
    "    \n",
    "<div class=\"question-text\">\n",
    "\n",
    "What was the actual speedup for each option?  Did Amdahl's law get it right? \n",
    "    \n",
    "</div>\n",
    "    \n",
    "<div class=\"answer\">\n",
    "    \n",
    "**Option 1 speedup:**\n",
    "\n",
    "\n",
    "    \n",
    "**Option 2 speedup:**\n",
    "\n",
    "\n",
    "\n",
    "**Option 3 speedup:**\n",
    "\n",
    "\n",
    "\n",
    "**Did Amdahl's Law get it right?:** \n",
    "\n",
    "\n",
    "    \n",
    "</div>\n",
    "</div>\n",
    "    "
   ]
  },
  {
   "cell_type": "markdown",
   "metadata": {
    "editable": false
   },
   "source": [
    "Run the cell below to plot the data"
   ]
  },
  {
   "cell_type": "markdown",
   "metadata": {
    "editable": false
   },
   "source": [
    "# Programming Assignment: Nibble Search\n",
    "\n",
    "The labs will all have a programming assignment as part of them.  The main purpose of this one is to get you familiar with the tools and the autograding submission process, but hopefully it'll be a little bit entertaining as well.\n",
    "\n",
    "For the programming assignment, you'll use the cell below.  You can edit your code there, run the cell, and it'll compile it, run it, and it tell you how fast it went.\n",
    "\n",
    "The function you are going to optimize counts the number of times a 4-bit pattern (or [nibble](https://en.wikipedia.org/wiki/Nibble) appears in an array of 16-bit numbers.  For instance, consider this list of numbers: \n",
    "\n",
    "```\n",
    "0x1010\n",
    "0xaba4\n",
    "```\n",
    "\n",
    "Which in binary look like\n",
    "\n",
    "```\n",
    "0001 0000 0001 0000\n",
    "1010 1011 1010 0100\n",
    "```\n",
    "\n",
    "And we were looking for this pattern:\n",
    "\n",
    "```\n",
    "0100 (0x4)\n",
    "```\n",
    "\n",
    "The answer would be 4.  It appears twice in the first number and twice in the second.  Note that the 4-bit pattern does not have to be aligned to a 4-bit boundary and matches do not span two adjacent words.\n",
    "\n",
    "The code below contains a simple implementation and the cfiddle code to compile it."
   ]
  },
  {
   "cell_type": "code",
   "execution_count": null,
   "metadata": {
    "cse142L.is_response": true,
    "deletable": false,
    "editable": true
   },
   "outputs": [],
   "source": [
    "\n",
    "nibble_search = build(code(r\"\"\"\n",
    "#include <vector>\n",
    "#include <iostream>\n",
    "#include \"cfiddle.hpp\"\n",
    "#include \"nibble.hpp\"\n",
    "\n",
    "extern \"C\" uint64_t nibble_search(uint8_t query, const std::vector<uint16_t> & targets) {\n",
    "    uint64_t count = 0;\n",
    "\n",
    "    for(auto & i: targets) {\n",
    "        for(int b = 0; b < 16 - 4; b++) {\n",
    "            uint8_t extracted = ((i >> b) & (0xf));\n",
    "            if (extracted == query) {\n",
    "                count+=1;\n",
    "            }\n",
    "        }\n",
    "    }\n",
    "    return count;\n",
    "}\n",
    "\"\"\", file_name=\"nibble_solution.cpp\"), build_parameters=arg_map(OPTIMIZE=[\"-O4\"], MORE_SRC=\"nibble.cpp canary.cpp\"))"
   ]
  },
  {
   "cell_type": "markdown",
   "metadata": {
    "editable": false
   },
   "source": [
    "There is a new build parameter passed `build()`: `MORE_SRC` lists additional source files to compile.  We'll discuss the contents of those files below."
   ]
  },
  {
   "attachments": {
    "image.png": {
     "image/png": "[encoded data removed]"
    }
   },
   "cell_type": "markdown",
   "metadata": {
    "editable": false
   },
   "source": [
    "<div class=\"alert alert-block alert-info\">    \n",
    "    \n",
    "**About the canary:** You might notice `canary.cpp` in the example above and the performance results below.  Sometimes our servers get slow for unknown reasons.  The canary is piece of code with known performance.  The autograder runs it to make sure the machine is performing well.  The performance of the canary has no effect on your score.\n",
    "    \n",
    "![image.png](attachment:image.png)\n",
    "    \n",
    "*The dinosaur protector of the autograder's accuracy.*\n",
    "</div>"
   ]
  },
  {
   "cell_type": "markdown",
   "metadata": {
    "editable": false
   },
   "source": [
    "## Running the Code"
   ]
  },
  {
   "cell_type": "markdown",
   "metadata": {
    "editable": false
   },
   "source": [
    "Rather than invoking this code directly, we will use a testing harness to call it.  Here's the code for that:"
   ]
  },
  {
   "cell_type": "code",
   "execution_count": null,
   "metadata": {
    "editable": false,
    "init_cell": true
   },
   "outputs": [],
   "source": [
    "build(\"nibble.cpp\")[0].source()"
   ]
  },
  {
   "cell_type": "markdown",
   "metadata": {
    "editable": false
   },
   "source": [
    "As you can see, it just initialized a random vector and calls `nibble_search()`.  In this assignment, you can modify the implementation of `nibble_search()` but you can't change the harness."
   ]
  },
  {
   "cell_type": "markdown",
   "metadata": {
    "editable": false
   },
   "source": [
    "You can run it and display results like so:"
   ]
  },
  {
   "cell_type": "code",
   "execution_count": null,
   "metadata": {
    "editable": false
   },
   "outputs": [],
   "source": [
    "d = run(nibble_search, function=\"run_nibble\",\n",
    "        arguments=arg_map(target_count=200000000, seed=range(1,3)))\n",
    "display(d.as_df())"
   ]
  },
  {
   "cell_type": "markdown",
   "metadata": {
    "editable": false
   },
   "source": [
    "Note that `run_nibble()` takes two parameters:  `target_count` (the number of 16-bit words to search) and `seed` (the random number seed used to generate those 16-bit words).  The cell above uses `range()` to generate the array `[1,2]`, so the code runs twice with two different seeds."
   ]
  },
  {
   "cell_type": "markdown",
   "metadata": {
    "cse142L.is_response": true,
    "cse142L.points": 1,
    "cse142L.question_type": "completeness",
    "deletable": false,
    "editable": true
   },
   "source": [
    "<div class=\"question completeness\">\n",
    "\n",
    "\n",
    "<div class=\"question-text\">\n",
    "\n",
    "Experiment with the value of `seed`.  Does it affect the performance of `nibble_search()`?  Why or why not?\n",
    "</div>\n",
    "    \n",
    "<div class=\"answer\">\n",
    "    \n",
    "</div>\n",
    "\n",
    "</div>"
   ]
  },
  {
   "cell_type": "markdown",
   "metadata": {
    "editable": false
   },
   "source": [
    "## The Test Suite"
   ]
  },
  {
   "cell_type": "markdown",
   "metadata": {
    "editable": false
   },
   "source": [
    "\n",
    "\n",
    "<div class=\"alert alert-block alert-success\">\n",
    "\n",
    "**Tests are great:** Tests are about the best thing ever (although writing them is a hassle). If you run the tests consistently, you can worry _much_ less about correctness.  Make small incremental changes to your code, run the tests after each change and enjoy the warm glow of happiness when they pass!\n",
    "    \n",
    "</div>\n",
    "\n",
    "<div class=\"alert alert-block alert-info\">\n",
    "\n",
    "**NOTE:** You normally will not need to run `run_tests.exe` in the cloud.  It'll work fine, but it takes longer which will slow your work down.  The test suite is about _correctness_ not performance.\n",
    "     \n",
    "</div>\n",
    "\n",
    "The lab  provides a comprehensive test suite for your implementation.  The code in is `run_test.cpp`.  It use [GTest](https://github.com/google/googletest) which is a very powerful C++ testing tool from Google.  Because of this, the tests run outside of cfiddle.\n",
    "\n",
    "You can build the tests with:"
   ]
  },
  {
   "cell_type": "code",
   "execution_count": null,
   "metadata": {
    "editable": false
   },
   "outputs": [],
   "source": [
    "!make run_tests.exe"
   ]
  },
  {
   "cell_type": "markdown",
   "metadata": {
    "editable": false
   },
   "source": [
    "\n",
    "<div class=\"alert alert-block alert-info\">\n",
    "\n",
    "**NOTE:** When you build run_tests.exe, it'll use the version of `nibble_solution.cpp` it finds in your lab directotry.  The contents of this file will reflect the last time your executed the cell above with the `build()` command in it, so if you make changes there, you'll need to re-run the cell.\n",
    "    \n",
    "</div>\n",
    "\n",
    "Then you can run the tests like this:"
   ]
  },
  {
   "cell_type": "code",
   "execution_count": null,
   "metadata": {
    "editable": false
   },
   "outputs": [],
   "source": [
    "!./run_tests.exe"
   ]
  },
  {
   "cell_type": "markdown",
   "metadata": {
    "editable": false
   },
   "source": [
    "The tests cover several different values for `target_count` and bunch of different values for  `seed`.  When you submit your code for autograding, it will run additional hidden tests (this is to keep students from over-customizing their implementations).  The hidden tests are pretty similar to those that `run_tests.exe` includes."
   ]
  },
  {
   "cell_type": "markdown",
   "metadata": {
    "editable": false
   },
   "source": [
    "### Running the Test Suite\n",
    "\n",
    "The test suite is meant to help keep you on the right track as you go through the assignment.  When you make a change to you code, I would:\n",
    "\n",
    "1.  Run all the tests.  If they all pass, great!\n",
    "2.  If some fail, run `simple_tests` first.\n",
    "3.  Once I find a particular test case that fails, you can run and debug just that test (see below).\n",
    "\n",
    "WHen a test fails, `run_tests.exe` will print out a description of the test that failed:\n",
    "\n",
    "```\n",
    "[ RUN      ] simple_tests/NibbleTestFixtureSmall.simple_tests/0\n",
    "1\n",
    "run_tests.cpp:23: Failure\n",
    "Expected equality of these values:\n",
    "  computed\n",
    "    Which is: 2\n",
    "  answer\n",
    "    Which is: 1\n",
    "nibble_search(15, [15]) == 1 but your code produced 2\n",
    "```\n",
    "\n",
    "The last line shows you what parameters caused the failure and what the right answer is.\n",
    "\n",
    "At the end of the `run_tests.exe` output, there's a summary of what failed:\n",
    "\n",
    "```\n",
    "[----------] Global test environment tear-down\n",
    "[==========] 13 tests from 4 test suites ran. (400 ms total)\n",
    "[  PASSED  ] 0 tests.\n",
    "[  FAILED  ] 13 tests, listed below:\n",
    "[  FAILED  ] simple_tests/NibbleTestFixtureSmall.simple_tests/0, where GetParam() = (15, '\\xF' (15), 1)\n",
    "[  FAILED  ] simple_tests/NibbleTestFixtureSmall.simple_tests/1, where GetParam() = (15, '\\a' (7), 1)\n",
    "[  FAILED  ] simple_tests/NibbleTestFixtureSmall.simple_tests/2, where GetParam() = (4369, '\\x1' (1), 3)\n",
    "[  FAILED  ] simple_tests/NibbleTestFixtureSmall.simple_tests/3, where GetParam() = (4369, '\\x4' (4), 3)\n",
    "[  FAILED  ] simple_tests/NibbleTestFixtureSmallDouble.simple_tests/0, where GetParam() = (15, 15, 15, 2)\n",
    "[  FAILED  ] simple_tests/NibbleTestFixtureSmallDouble.simple_tests/1, where GetParam() = (1, 4369, 1, 4)\n",
    "[  FAILED  ] VisibleTests/NibbleTestFixtureBig.NibbleTest/0, where GetParam() = (10000, 1, 7471)\n",
    "[  FAILED  ] VisibleTests/NibbleTestFixtureBig.NibbleTest/1, where GetParam() = (100000, 2, 75432)\n",
    "\n",
    "\n",
    "13 FAILED TESTS\n",
    "```\n",
    "\n",
    "Each test has a name (e.g., `simple_tests/NibbleTestFixtureSmall.simple_tests/0`).  To run just `simple_tests` you can do:"
   ]
  },
  {
   "cell_type": "code",
   "execution_count": null,
   "metadata": {
    "editable": false
   },
   "outputs": [],
   "source": [
    "!./run_tests.exe --gtest_filter=simple_tests*"
   ]
  },
  {
   "cell_type": "markdown",
   "metadata": {
    "editable": false
   },
   "source": [
    "To run just one test you can do something like:"
   ]
  },
  {
   "cell_type": "code",
   "execution_count": null,
   "metadata": {
    "editable": false
   },
   "outputs": [],
   "source": [
    "!./run_tests.exe --gtest_filter=simple_tests/NibbleTestFixtureSmall.simple_tests/0"
   ]
  },
  {
   "cell_type": "markdown",
   "metadata": {
    "editable": false
   },
   "source": [
    "You can also get a list of all the tests with"
   ]
  },
  {
   "cell_type": "code",
   "execution_count": null,
   "metadata": {
    "editable": false
   },
   "outputs": [],
   "source": [
    "!./run_tests.exe --gtest_list_tests"
   ]
  },
  {
   "cell_type": "markdown",
   "metadata": {
    "editable": false
   },
   "source": [
    "### Debugging With the Test Suite"
   ]
  },
  {
   "cell_type": "markdown",
   "metadata": {
    "editable": false
   },
   "source": [
    "If you want to debug your test, open a shell and do\n",
    "\n",
    "```\n",
    "$ gdb run_tests.exe\n",
    "GNU gdb (Ubuntu 12.0.90-0ubuntu1) 12.0.90\n",
    "Copyright (C) 2022 Free Software Foundation, Inc.\n",
    "License GPLv3+: GNU GPL version 3 or later <http://gnu.org/licenses/gpl.html>\n",
    "This is free software: you are free to change and redistribute it.\n",
    "There is NO WARRANTY, to the extent permitted by law.\n",
    "Type \"show copying\" and \"show warranty\" for details.\n",
    "This GDB was configured as \"x86_64-linux-gnu\".\n",
    "Type \"show configuration\" for configuration details.\n",
    "For bug reporting instructions, please see:\n",
    "<https://www.gnu.org/software/gdb/bugs/>.\n",
    "Find the GDB manual and other documentation resources online at:\n",
    "    <http://www.gnu.org/software/gdb/documentation/>.\n",
    "\n",
    "For help, type \"help\".\n",
    "Type \"apropos word\" to search for commands related to \"word\"...\n",
    "Reading symbols from run_tests.exe...\n",
    "```\n",
    "\n",
    "Then set a breakpoint on `nibble_search`:\n",
    "\n",
    "```\n",
    "(gdb) b nibble_search\n",
    "Breakpoint 1 at 0x2f922: file nibble_solution.cpp, line 9.\n",
    "```\n",
    "\n",
    "and then run the executable with `--gtest_filter` to run the test you want to debug:\n",
    "\n",
    "```\n",
    "(gdb) run --gtest_filter=simple_tests/NibbleTestFixtureSmall.simple_tests/0\n",
    "Starting program: /cse142L/labs/CSE141pp-Lab-The-PE/run_tests.exe --gtest_filter=simple_tests/NibbleTestFixtureSmall.simple_tests/0\n",
    "[Thread debugging using libthread_db enabled]\n",
    "Using host libthread_db library \"/lib/x86_64-linux-gnu/libthread_db.so.1\".\n",
    "Note: Google Test filter = simple_tests/NibbleTestFixtureSmall.simple_tests/0\n",
    "[==========] Running 1 test from 1 test suite.\n",
    "[----------] Global test environment set-up.\n",
    "[----------] 1 test from simple_tests/NibbleTestFixtureSmall\n",
    "[ RUN      ] simple_tests/NibbleTestFixtureSmall.simple_tests/0\n",
    "1\n",
    "\n",
    "Breakpoint 1, nibble_search (query=15 '\\017', targets=std::vector of length 1, capacity 1 = {...}) at nibble_solution.cpp:9\n",
    "9\textern \"C\" uint64_t nibble_search(uint8_t query, const std::vector<uint16_t> & targets) {\n",
    "(gdb) \n",
    "```\n",
    "\n",
    "And debug away!"
   ]
  },
  {
   "cell_type": "markdown",
   "metadata": {
    "editable": false
   },
   "source": [
    "##  Managing Multiple Versions "
   ]
  },
  {
   "cell_type": "markdown",
   "metadata": {
    "editable": false
   },
   "source": [
    "As you work on our code, you can keep multiple versions around in separate cells.  For instance, here's another version of `nibble_search()` that searches backwards:"
   ]
  },
  {
   "cell_type": "code",
   "execution_count": null,
   "metadata": {
    "cse142L.is_response": true,
    "deletable": false,
    "editable": true
   },
   "outputs": [],
   "source": [
    "\n",
    "nibble_search_backwards = build(code(r\"\"\"\n",
    "#include <vector>\n",
    "#include <iostream>\n",
    "#include \"cfiddle.hpp\"\n",
    "#include \"nibble.hpp\"\n",
    "\n",
    "extern \"C\" uint64_t nibble_search(uint8_t query, const std::vector<uint16_t> & targets) {\n",
    "    uint64_t count = 0;\n",
    "\n",
    "    for(auto & i: targets) {\n",
    "        for(int b = 16-4-1; b >= 0; b--) {\n",
    "            uint8_t extracted = ((i >> b) & (0xf));\n",
    "            if (extracted == query) {\n",
    "                count+=1;\n",
    "            }\n",
    "        }\n",
    "    }\n",
    "    return count;\n",
    "}\n",
    "\"\"\", file_name=\"nibble_solution_reverse.cpp\"), build_parameters=arg_map(OPTIMIZE=[\"-O4\"], MORE_SRC=\"nibble.cpp canary.cpp\", TAG=\"reverse\"))"
   ]
  },
  {
   "cell_type": "markdown",
   "metadata": {
    "editable": false
   },
   "source": [
    "Note the `TAG=\"reverse\"` in the last line.  This is not necessary, but it is handy to add as we will see.\n",
    "\n",
    "You can then run it like so:"
   ]
  },
  {
   "cell_type": "code",
   "execution_count": null,
   "metadata": {
    "editable": false
   },
   "outputs": [],
   "source": [
    "d = run(nibble_search_backwards, function=\"run_nibble\",\n",
    "        arguments=arg_map(target_count=200000000, seed=range(1,3)))\n",
    "display(d.as_df())"
   ]
  },
  {
   "cell_type": "markdown",
   "metadata": {
    "editable": false
   },
   "source": [
    "And you can run both the original version and your new version like this:"
   ]
  },
  {
   "cell_type": "code",
   "execution_count": null,
   "metadata": {
    "editable": false
   },
   "outputs": [],
   "source": [
    "d = run(nibble_search + nibble_search_backwards, function=\"run_nibble\",\n",
    "        arguments=arg_map(target_count=200000000, seed=range(1,3)))"
   ]
  },
  {
   "cell_type": "code",
   "execution_count": null,
   "metadata": {
    "editable": false
   },
   "outputs": [],
   "source": [
    "display(d.as_df())\n",
    "PE_calc(d.as_df())"
   ]
  },
  {
   "cell_type": "markdown",
   "metadata": {
    "editable": false
   },
   "source": [
    "This works because `nibble_search` and `nibble_search_backwards` are both lists of compiled versions of the code, so we can concatenate them with `+`."
   ]
  },
  {
   "cell_type": "code",
   "execution_count": null,
   "metadata": {
    "editable": false
   },
   "outputs": [],
   "source": [
    "PE_calc(d.as_df())\n"
   ]
  },
  {
   "cell_type": "markdown",
   "metadata": {
    "editable": false
   },
   "source": [
    "As you can see the value for `TAG` shows up in the output, so you can tell the two version apart."
   ]
  },
  {
   "cell_type": "markdown",
   "metadata": {
    "cse142L.is_response": true,
    "cse142L.question_type": "optional",
    "deletable": false,
    "editable": true
   },
   "source": [
    "<div class=\"question optional\">\n",
    "\n",
    "\n",
    "<div class=\"question-text\">\n",
    "\n",
    "How does the performance of the `reverse` version and the original version compare?  What's going on there?     \n",
    "</div>\n",
    "\n",
    "<div class=\"answer\">\n",
    "</div>\n",
    "</div>"
   ]
  },
  {
   "cell_type": "markdown",
   "metadata": {
    "editable": false
   },
   "source": [
    "## Final Measurement and Grading"
   ]
  },
  {
   "cell_type": "markdown",
   "metadata": {
    "editable": false
   },
   "source": [
    "When you are done, make sure your best solution is in `nibble_solution.cpp`.  Then you can submit your code to the Gradescope autograder.  It will run the commands given above and use the `ET` values from `autograde.csv` to assign your grade.\n",
    "\n",
    "Your grade is based on your speed up relative to the original version of `nibble_solution.cpp` in the lab.   The target speedup is X.  Your score is `your_speedup/target_speedup`.\n",
    "\n",
    "You don't get extra credit for beating the target.\n",
    "\n",
    "To get points, your code must also be correct.  The autograder will run the regressions in `run_tests.exe` to check it's correctness.\n",
    "\n",
    "You can mimic exactly what the autograder will do with the command below.  You can run the cell below to list them and the target speedups.\n",
    "\n",
    "After you run it, the results will be in `autograde/autograde.csv` rather than `./autograde.csv`.  This command builds and runs your code in a more controlled way by doing the following:\n",
    "\n",
    "1.  Ignores all the files in your repo except `nibble_solution.hpp`.\n",
    "2.  Copies those files into a clean clone of the starter repo.\n",
    "3.  Builds and runs `run_tests.exe` with the hidden tests enabled.\n",
    "3.  Runs your code using `run_bench.py`.\n",
    "5.  It then runs the `autograde.py` script to compute your grade.\n",
    "\n",
    "Running the cell below does just what the Gradescope autograder does.  And the cell below shows the name and target speedups for each benchmark.  This takes 1-2 minutes to run.\n",
    "\n",
    "<div class=\"alert alert-block alert-danger\">\n",
    "\n",
    "**Only Gradescope Counts** The scores produced here **do not** count.  Only gradescope counts.  The results here should match what Gradescope does, but I would test your solution on Gradescope well-ahead of the deadline to ensure your code is working like you expect.\n",
    "    \n",
    "</div>\n",
    "\n",
    "<div class=\"alert alert-block alert-info\">\n",
    "\n",
    "**There are hidden test cases**  The autograder will run some tests that you can't see.  So it's possible that the cells below will pass, but gradesceope will fail.\n",
    "    \n",
    "</div>"
   ]
  },
  {
   "cell_type": "code",
   "execution_count": null,
   "metadata": {
    "editable": false
   },
   "outputs": [],
   "source": [
    "!cse142 job run --take nibble_solution.cpp --lab intro-bench --force autograde"
   ]
  },
  {
   "cell_type": "code",
   "execution_count": null,
   "metadata": {
    "editable": false
   },
   "outputs": [],
   "source": [
    "render_csv(\"autograde/autograde.csv\")"
   ]
  },
  {
   "cell_type": "markdown",
   "metadata": {
    "editable": false
   },
   "source": [
    "And run the autograder"
   ]
  },
  {
   "cell_type": "code",
   "execution_count": null,
   "metadata": {
    "editable": false
   },
   "outputs": [],
   "source": [
    "!./autograde.py --submission autograde --results autograde.json\n",
    "from autograde import compute_all_scores\n",
    "df = compute_all_scores(dir=\"autograde\")\n",
    "display(df)\n",
    "print(f\"total points: {round(sum(df['score']), 2)}\")"
   ]
  },
  {
   "cell_type": "markdown",
   "metadata": {
    "editable": false
   },
   "source": [
    "The \"score\" column contains the number of points you'll receive.\n",
    "\n",
    "And see the autograder's output like this:"
   ]
  },
  {
   "cell_type": "code",
   "execution_count": null,
   "metadata": {
    "editable": false
   },
   "outputs": [],
   "source": [
    "render_code(\"autograde.json\")"
   ]
  },
  {
   "cell_type": "markdown",
   "metadata": {
    "editable": false
   },
   "source": [
    "Most of it is internal stuff that gradscope needs, but the key parts are the `score`, `max_score`, and `output` fields.\n",
    "\n",
    "All that's left is commit your code:"
   ]
  },
  {
   "cell_type": "code",
   "execution_count": null,
   "metadata": {
    "editable": false
   },
   "outputs": [],
   "source": [
    "!git add nibble_solution.cpp\n",
    "!git commit -m \"Yay! I finished the first lab!\"\n",
    "!git push"
   ]
  },
  {
   "cell_type": "markdown",
   "metadata": {
    "editable": false
   },
   "source": [
    "If this asks you for a password, you'll need to interrupt your Jupyter notebook kernel and do it in a shell instead.\n",
    "\n",
    "If `git commit` tell you something like:\n",
    "\n",
    "```\n",
    "*** Please tell me who you are.\n",
    "\n",
    "Run\n",
    "\n",
    "git config --global user.email \"you@example.com\"\n",
    "git config --global user.name \"Your Name\"\n",
    "\n",
    "to set your account's default identity.\n",
    "Omit --global to set the identity only in this repository.\n",
    "\n",
    "fatal: unable to auto-detect email address (got 'prcheng@dsmlp-jupyter-prcheng.(none)')\n",
    "Warning: Permanently added the RSA host key for IP address '140.82.112.3' to the list of known hosts.\n",
    "Everything up-to-date\n",
    "```\n",
    "\n",
    "Then, run these after filling in your @ucsd.edu email and your name.  "
   ]
  },
  {
   "cell_type": "code",
   "execution_count": null,
   "metadata": {
    "editable": false
   },
   "outputs": [],
   "source": [
    "!git config --global user.email \"you@example.com\"\n",
    "!git config --global user.name \"Your Name\""
   ]
  },
  {
   "cell_type": "markdown",
   "metadata": {
    "editable": false
   },
   "source": [
    "# Recap\n",
    "\n",
    "This lab has collected real data to understand the how the performance equation, the power equation, and Amdahl's law apply to some simple programs.  This exploration presented the following questions:\n",
    "\n",
    "* Why does increasing the size of array change `CPI`? And why does this change occur so quickly?\n",
    "* How can clock rate affect `CPI`?\n",
    "* Why doesn't clock rate always affect `CPI`?\n",
    "* How and why do the datatypes we use change `IC` and  `CPI`?\n",
    "* Why does the order in which the program performs calculations affect `CPI`?\n",
    "\n",
    "Throughout the rest of the course and the labs, we'll find answers to most of these and see how can use those answers to make better use of modern processors."
   ]
  },
  {
   "cell_type": "markdown",
   "metadata": {
    "cse142L.is_response": true,
    "cse142L.points": 1,
    "cse142L.question_type": "completeness",
    "deletable": false,
    "editable": true
   },
   "source": [
    "<div class=\"question completeness\"> \n",
    "\n",
    "<div class=\"question-text\">\n",
    "\n",
    "Which of these questions do you find most interesting and why?\n",
    "    \n",
    "</div>\n",
    "    \n",
    "<div class=\"answer\">\n",
    "\n",
    "</div>\n",
    "</div>"
   ]
  },
  {
   "cell_type": "markdown",
   "metadata": {
    "cse142L.is_response": true,
    "cse142L.points": 1,
    "cse142L.question_type": "completeness",
    "deletable": false,
    "editable": true
   },
   "source": [
    "<div class=\"question completeness\"> \n",
    "\n",
    "<div class=\"question-text\">\n",
    "\n",
    "Give three other questions you have after completing this lab.\n",
    " \n",
    "</div>\n",
    "    \n",
    "<div class=\"answer\">\n",
    "\n",
    "1. question 1\n",
    "2. question 2 \n",
    "3. question 3\n",
    "    \n",
    "\n",
    "</div>\n",
    "</div>"
   ]
  },
  {
   "cell_type": "markdown",
   "metadata": {
    "cse142L.is_response": true,
    "cse142L.question_type": "optional",
    "deletable": false,
    "editable": true
   },
   "source": [
    "<div class=\"question optional\"> \n",
    "\n",
    "<div class=\"question-text\">\n",
    "\n",
    "What's the seed for the first hidden test case? This one is pretty hard.\n",
    "</div>\n",
    "    \n",
    "<div class=\"answer\">\n",
    "\n",
    "</div>\n",
    "</div>"
   ]
  },
  {
   "cell_type": "markdown",
   "metadata": {
    "editable": false
   },
   "source": [
    "# Turning In the Lab"
   ]
  },
  {
   "cell_type": "markdown",
   "metadata": {
    "editable": false
   },
   "source": [
    "For each lab, there are two different assignments on gradescope:\n",
    "\n",
    "1.  The lab notebook.\n",
    "2.  The programming assignment.\n",
    "\n",
    "There's also a pre-lab reading quiz on Canvas and a post-lab survey which is embedded below.\n",
    "\n",
    "## The CSE142L Emergency Lab Submission Form\n",
    "\n",
    "We do not accept late submissions.  However, sometimes things go wrong at submission time.  To accommodate this, we have the [Emergency Lab Submission Form]().  It allows us to deal with submission problems in a fair and uniform way.\n",
    "\n",
    "Here's the process:\n",
    "\n",
    "1.  If you are having trouble submitting, commit your work, and fill out this form _before the deadline_.  THERE WILL BE NO EXCEPTIONS GRANTED.\n",
    "2.  The commit has you provide for your github repo must be dated before the deadline.\n",
    "3.  You can continue to try to submit via the normal gradescope.\n",
    "4.  If you aren't able to successfully submit via gradescope, then submit a regrade request during the regrade period.\n",
    "5.  We will review the contents of your github repo, the gradescope submission URLs, and the job IDs you provide.\n",
    "6.  If there was some problem with the infrastructure, you can receive up to full credit.  If there was a problem on your side (e.g., not generating the PDF properly), you can earn up to 90% credit.\n",
    "\n",
    "We will not address these issues on Piazza or via email.  \n",
    "\n",
    "## Reading Quiz\n",
    "\n",
    "The reading quiz is an online assignment on Canvas.  It's due before the class when we will assign the lab.\n",
    "\n",
    "## The Note Book\n",
    "\n",
    "You need to turn in your lab notebook and your programming assignment separately. \n",
    "\n",
    "After you complete the lab, you will turn it in by creating a version of the notebook that only contains your answers and then printing that to a pdf.\n",
    "\n",
    "**Step 1:**  Save your workbook!!!"
   ]
  },
  {
   "cell_type": "code",
   "execution_count": null,
   "metadata": {
    "editable": false
   },
   "outputs": [],
   "source": [
    "!for i in 1 2 3 4 5; do echo Save your notebook!; sleep 1; done"
   ]
  },
  {
   "cell_type": "markdown",
   "metadata": {
    "editable": false
   },
   "source": [
    "**Step 2:**  Run this command:"
   ]
  },
  {
   "cell_type": "code",
   "execution_count": null,
   "metadata": {
    "editable": false
   },
   "outputs": [],
   "source": [
    "!turnin-lab Lab.ipynb\n",
    "!ls -lh Lab.turnin.ipynb"
   ]
  },
  {
   "attachments": {
    "image.png": {
     "image/png": "[encoded data removed]"
    }
   },
   "cell_type": "markdown",
   "metadata": {
    "editable": false
   },
   "source": [
    "The date in the above file listing should show that you just created `Lab.turnin.ipynb`\n",
    "\n",
    "**Step 3:**  Click on this link to open it: [./Lab.turnin.ipynb](./Lab.turnin.ipynb)\n",
    "\n",
    "**Step 4:**  Hide the table of contents by clicking the\n",
    "\n",
    "![image.png](attachment:image.png)\n",
    "\n",
    "**Step 5:**  Select \"Print\" from _your browser's_ \"file\" menu.  Print directly to a PDF.\n",
    "\n",
    "**Step 6:**  Make sure all your answers are visible and not cut off the side of the page.\n",
    "\n",
    "**Step 7:**  Turn in that PDF via gradescope."
   ]
  },
  {
   "cell_type": "markdown",
   "metadata": {
    "editable": false
   },
   "source": [
    "<div class=\"alert alert-block alert-danger\">\n",
    "\n",
    "**Print Carefully** It's important that you print directly to a PDF.  In particular, you should _not_ do any of the following:\n",
    "    \n",
    "1. **Do not** select \"Print Preview\" and then print that. (Remarkably, this is not the same as printing directly, so it's not clear what it is a preview of)\n",
    "2. **Do not** select `Download as-> PDF via LaTex.  It generates nothing useful.\n",
    "    \n",
    "</div>\n",
    "\n",
    "Once you have your PDF, you can submit it via gradescope.  In gradescope, you'll need to show us where all your answers are.  Please do this carefully, if we can't find your answer, we can't grade it."
   ]
  },
  {
   "cell_type": "markdown",
   "metadata": {
    "editable": false
   },
   "source": [
    "## The Programming Assignment\n",
    "\n",
    "You'll turn in your programming assignment by providing gradescope with your github repo.   It'll run the autograder and return the results."
   ]
  },
  {
   "cell_type": "markdown",
   "metadata": {
    "editable": false
   },
   "source": [
    "## Lab Survey\n",
    "\n",
    "Please fill out this survey when you've finished the lab.  You can only submit once.  Be sure to press \"submit\", your answers won't be saved in the notebook."
   ]
  },
  {
   "cell_type": "code",
   "execution_count": 3,
   "metadata": {
    "deletable": false,
    "editable": false,
    "init_cell": true
   },
   "outputs": [],
   "source": [
    "from IPython.display import IFrame    \n",
    "IFrame('https://docs.google.com/forms/d/e/1FAIpQLSdEyaIDy52FLLUzQEXoJJmz7ffQBN1-0Qdndu6wQ7NK8U6pZw/viewform', width=800, height=2000)\n"
   ]
  },
  {
   "cell_type": "markdown",
   "metadata": {
    "editable": false
   },
   "source": [
    "\n"
   ]
  }
 ],
 "metadata": {
  "celltoolbar": "Initialization Cell",
  "kernelspec": {
   "display_name": "Python 3 (ipykernel)",
   "language": "python",
   "name": "python3"
  },
  "language_info": {
   "codemirror_mode": {
    "name": "ipython",
    "version": 3
   },
   "file_extension": ".py",
   "mimetype": "text/x-python",
   "name": "python",
   "nbconvert_exporter": "python",
   "pygments_lexer": "ipython3",
   "version": "3.10.6"
  },
  "toc": {
   "base_numbering": 1,
   "nav_menu": {},
   "number_sections": true,
   "sideBar": true,
   "skip_h1_title": false,
   "title_cell": "Table of Contents",
   "title_sidebar": "Contents",
   "toc_cell": false,
   "toc_position": {
    "height": "calc(100% - 180px)",
    "left": "10px",
    "top": "150px",
    "width": "330.188px"
   },
   "toc_section_display": true,
   "toc_window_display": true
  }
 },
 "nbformat": 4,
 "nbformat_minor": 4
}
